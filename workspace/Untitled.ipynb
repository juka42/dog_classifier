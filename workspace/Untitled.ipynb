{
 "cells": [
  {
   "cell_type": "code",
   "execution_count": 1,
   "metadata": {},
   "outputs": [
    {
     "data": {
      "text/plain": [
       "'/Users/juka42/Desktop/Udacity/python_AI/project01/workspace'"
      ]
     },
     "execution_count": 1,
     "metadata": {},
     "output_type": "execute_result"
    }
   ],
   "source": [
    "pwd\n"
   ]
  },
  {
   "cell_type": "code",
   "execution_count": 1,
   "metadata": {},
   "outputs": [
    {
     "name": "stdout",
     "output_type": "stream",
     "text": [
      "\n",
      "Prints 10 filenames from folder pet_images/\n",
      " 1 file:                cat_01.jpg\n",
      " 2 file:          Poodle_07927.jpg\n",
      " 3 file:                cat_02.jpg\n",
      " 4 file:      Great_dane_05320.jpg\n",
      " 5 file:       Dalmatian_04068.jpg\n",
      " 6 file:              gecko_02.jpg\n",
      " 7 file:                cat_07.jpg\n",
      " 8 file:  Great_pyrenees_05435.jpg\n",
      " 9 file: German_shepherd_dog_04931.jpg\n",
      "10 file: German_shepherd_dog_04890.jpg\n",
      "11 file:          Collie_03797.jpg\n",
      "12 file:   Saint_bernard_08010.jpg\n",
      "13 file:       Dalmatian_04037.jpg\n",
      "14 file:            Rabbit_002.jpg\n",
      "15 file:         polar_bear_04.jpg\n",
      "16 file:          Poodle_07956.jpg\n",
      "17 file:       fox_squirrel_01.jpg\n",
      "18 file:          Beagle_01170.jpg\n",
      "19 file:  Boston_terrier_02285.jpg\n",
      "20 file:             skunk_029.jpg\n",
      "21 file:  Boston_terrier_02303.jpg\n",
      "22 file: Miniature_schnauzer_06884.jpg\n",
      "23 file:          Beagle_01141.jpg\n",
      "24 file:         Basenji_00974.jpg\n",
      "25 file:              gecko_80.jpg\n",
      "26 file:       Dalmatian_04017.jpg\n",
      "27 file:           Boxer_02426.jpg\n",
      "28 file:         Basenji_00963.jpg\n",
      "29 file:  Boston_terrier_02259.jpg\n",
      "30 file: Golden_retriever_05182.jpg\n",
      "31 file: Golden_retriever_05223.jpg\n",
      "32 file:   great_horned_owl_02.jpg\n",
      "33 file:   Saint_bernard_08036.jpg\n",
      "34 file: Golden_retriever_05195.jpg\n",
      "35 file:          Beagle_01125.jpg\n",
      "36 file:  Great_pyrenees_05367.jpg\n",
      "37 file: German_shorthaired_pointer_04986.jpg\n",
      "38 file:  Cocker_spaniel_03750.jpg\n",
      "39 file: Golden_retriever_05257.jpg\n",
      "40 file:    Basset_hound_01034.jpg\n"
     ]
    }
   ],
   "source": [
    "# Imports only listdir function from OS module \n",
    "from os import listdir  \n",
    "\n",
    "# Retrieve the filenames from folder pet_images/\n",
    "filename_list = listdir(\"pet_images/\")\n",
    "\n",
    "# Print 10 of the filenames from folder pet_images/\n",
    "print(\"\\nPrints 10 filenames from folder pet_images/\")\n",
    "for idx in range(0, len(filename_list), 1):\n",
    "    print(\"{:2d} file: {:>25}\".format(idx + 1, filename_list[idx]) )"
   ]
  },
  {
   "cell_type": "code",
   "execution_count": 2,
   "metadata": {},
   "outputs": [
    {
     "name": "stdout",
     "output_type": "stream",
     "text": [
      "Poodle_07927\n"
     ]
    }
   ],
   "source": [
    "name = filename_list[1].split('.')[0]\n",
    "print(name)"
   ]
  },
  {
   "cell_type": "code",
   "execution_count": 3,
   "metadata": {},
   "outputs": [
    {
     "data": {
      "text/plain": [
       "list"
      ]
     },
     "execution_count": 3,
     "metadata": {},
     "output_type": "execute_result"
    }
   ],
   "source": [
    "type(filename_list)"
   ]
  },
  {
   "cell_type": "code",
   "execution_count": 31,
   "metadata": {},
   "outputs": [
    {
     "name": "stdout",
     "output_type": "stream",
     "text": [
      "basset hound\n",
      "   asdf   !\n",
      "asdf!\n"
     ]
    }
   ],
   "source": [
    "def labelize(filename):\n",
    "    label=''\n",
    "    for i in range(len(filename)):\n",
    "        if filename[i].isalpha(): \n",
    "            label += filename[i].casefold()\n",
    "        elif  filename[i] == '_':\n",
    "            label += ' '\n",
    "        elif filename[i] == '.':\n",
    "            break\n",
    "    return(label.strip())\n",
    "\n",
    "print(labelize(filename_list[39]))"
   ]
  },
  {
   "cell_type": "code",
   "execution_count": 16,
   "metadata": {},
   "outputs": [
    {
     "name": "stdout",
     "output_type": "stream",
     "text": [
      "{'Poodle_07927.jpg': ['poodle']}\n"
     ]
    }
   ],
   "source": [
    "labels = {}\n",
    "file_name = filename_list[1]\n",
    "label = labelize(file_name.split('.')[0])\n",
    "labels[file_name]=[label]\n",
    "print(labels)"
   ]
  },
  {
   "cell_type": "code",
   "execution_count": 81,
   "metadata": {},
   "outputs": [
    {
     "name": "stdout",
     "output_type": "stream",
     "text": [
      "{'cat_01.jpg': 'cat', 'Poodle_07927.jpg': 'poodle', 'cat_02.jpg': 'cat', 'Great_dane_05320.jpg': 'great dane', 'Dalmatian_04068.jpg': 'dalmatian', 'gecko_02.jpg': 'gecko', 'cat_07.jpg': 'cat', 'Great_pyrenees_05435.jpg': 'great pyrenees', 'German_shepherd_dog_04931.jpg': 'german shepherd dog', 'German_shepherd_dog_04890.jpg': 'german shepherd dog', 'Collie_03797.jpg': 'collie', 'Saint_bernard_08010.jpg': 'saint bernard', 'Dalmatian_04037.jpg': 'dalmatian', 'Rabbit_002.jpg': 'rabbit', 'polar_bear_04.jpg': 'polar bear', 'Poodle_07956.jpg': 'poodle', 'fox_squirrel_01.jpg': 'fox squirrel', 'Beagle_01170.jpg': 'beagle', 'Boston_terrier_02285.jpg': 'boston terrier', 'skunk_029.jpg': 'skunk', 'Boston_terrier_02303.jpg': 'boston terrier', 'Miniature_schnauzer_06884.jpg': 'miniature schnauzer', 'Beagle_01141.jpg': 'beagle', 'Basenji_00974.jpg': 'basenji', 'gecko_80.jpg': 'gecko', 'Dalmatian_04017.jpg': 'dalmatian', 'Boxer_02426.jpg': 'boxer', 'Basenji_00963.jpg': 'basenji', 'Boston_terrier_02259.jpg': 'boston terrier', 'Golden_retriever_05182.jpg': 'golden retriever', 'Golden_retriever_05223.jpg': 'golden retriever', 'great_horned_owl_02.jpg': 'great horned owl', 'Saint_bernard_08036.jpg': 'saint bernard', 'Golden_retriever_05195.jpg': 'golden retriever', 'Beagle_01125.jpg': 'beagle', 'Great_pyrenees_05367.jpg': 'great pyrenees', 'German_shorthaired_pointer_04986.jpg': 'german shorthaired pointer', 'Cocker_spaniel_03750.jpg': 'cocker spaniel', 'Golden_retriever_05257.jpg': 'golden retriever', 'Basset_hound_01034.jpg': 'basset hound'}\n"
     ]
    }
   ],
   "source": [
    "results_dic = {}\n",
    "for filename in filename_list:\n",
    "    results_dic[filename] = labelize(filename)\n",
    "print(results_dic)"
   ]
  },
  {
   "cell_type": "code",
   "execution_count": 12,
   "metadata": {},
   "outputs": [
    {
     "name": "stdout",
     "output_type": "stream",
     "text": [
      "{'asdf': 'qwer'}\n"
     ]
    }
   ],
   "source": [
    "results_dic = {}\n",
    "results_dic[\"asdf\"] = \"qwer\"\n",
    "print(results_dic)"
   ]
  },
  {
   "cell_type": "raw",
   "metadata": {},
   "source": []
  },
  {
   "cell_type": "code",
   "execution_count": 13,
   "metadata": {},
   "outputs": [
    {
     "name": "stdout",
     "output_type": "stream",
     "text": [
      "cat_01.jpg\n",
      "Poodle_07927.jpg\n",
      "cat_02.jpg\n",
      "Great_dane_05320.jpg\n",
      "Dalmatian_04068.jpg\n",
      "gecko_02.jpg\n",
      "cat_07.jpg\n",
      "Great_pyrenees_05435.jpg\n",
      "German_shepherd_dog_04931.jpg\n",
      "German_shepherd_dog_04890.jpg\n"
     ]
    }
   ],
   "source": [
    "for idx in range(10):\n",
    "    print(filename_list[idx])"
   ]
  },
  {
   "cell_type": "code",
   "execution_count": null,
   "metadata": {},
   "outputs": [],
   "source": [
    "for filename in filename_list:\n",
    "    results_dic[filename] = labelize(filename)"
   ]
  },
  {
   "cell_type": "code",
   "execution_count": 42,
   "metadata": {},
   "outputs": [],
   "source": [
    "import ast\n",
    "from PIL import Image\n",
    "import torchvision.transforms as transforms\n",
    "from torch.autograd import Variable\n",
    "import torchvision.models as models\n",
    "from torch import __version__\n",
    "\n",
    "resnet18 = models.resnet18(pretrained=True)\n",
    "alexnet = models.alexnet(pretrained=True)\n",
    "vgg16 = models.vgg16(pretrained=True)\n",
    "\n",
    "models = {'resnet': resnet18, 'alexnet': alexnet, 'vgg': vgg16}\n",
    "\n",
    "# obtain ImageNet labels\n",
    "with open('imagenet1000_clsid_to_human.txt') as imagenet_classes_file:\n",
    "    imagenet_classes_dict = ast.literal_eval(imagenet_classes_file.read())\n",
    "\n",
    "def classifier(img_path, model_name):\n",
    "    # load the image\n",
    "    img_pil = Image.open(img_path)\n",
    "\n",
    "    # define transforms\n",
    "    preprocess = transforms.Compose([\n",
    "        transforms.Resize(256),\n",
    "        transforms.CenterCrop(224),\n",
    "        transforms.ToTensor(),\n",
    "        transforms.Normalize(mean=[0.485, 0.456, 0.406], std=[0.229, 0.224, 0.225])\n",
    "    ])\n",
    "    \n",
    "    # preprocess the image\n",
    "    img_tensor = preprocess(img_pil)\n",
    "    \n",
    "    # resize the tensor (add dimension for batch)\n",
    "    img_tensor.unsqueeze_(0)\n",
    "    \n",
    "    # wrap input in variable, wrap input in variable - no longer needed for\n",
    "    # v 0.4 & higher code changed 04/26/2018 by Jennifer S. to handle PyTorch upgrade\n",
    "    pytorch_ver = __version__.split('.')\n",
    "    \n",
    "    # pytorch versions 0.4 & hihger - Variable depreciated so that it returns\n",
    "    # a tensor. So to address tensor as output (not wrapper) and to mimic the \n",
    "    # affect of setting volatile = True (because we are using pretrained models\n",
    "    # for inference) we can set requires_gradient to False. Here we just set \n",
    "    # requires_grad_ to False on our tensor \n",
    "    if int(pytorch_ver[0]) > 0 or int(pytorch_ver[1]) >= 4:\n",
    "        img_tensor.requires_grad_(False)\n",
    "    \n",
    "    # pytorch versions less than 0.4 - uses Variable because not-depreciated\n",
    "    else:\n",
    "        # apply model to input\n",
    "        # wrap input in variable\n",
    "        data = Variable(img_tensor, volatile = True) \n",
    "\n",
    "    # apply model to input\n",
    "    model = models[model_name]\n",
    "\n",
    "    # puts model in evaluation mode\n",
    "    # instead of (default)training mode\n",
    "    model = model.eval()\n",
    "    \n",
    "    # apply data to model - adjusted based upon version to account for \n",
    "    # operating on a Tensor for version 0.4 & higher.\n",
    "    if int(pytorch_ver[0]) > 0 or int(pytorch_ver[1]) >= 4:\n",
    "        output = model(img_tensor)\n",
    "\n",
    "    # pytorch versions less than 0.4\n",
    "    else:\n",
    "        # apply data to model\n",
    "        output = model(data)\n",
    "\n",
    "    # return index corresponding to predicted class\n",
    "    pred_idx = output.data.numpy().argmax()\n",
    "\n",
    "    return imagenet_classes_dict[pred_idx]\n",
    "\n"
   ]
  },
  {
   "cell_type": "code",
   "execution_count": 44,
   "metadata": {},
   "outputs": [
    {
     "data": {
      "text/plain": [
       "'German shepherd, German shepherd dog, German police dog, alsatian'"
      ]
     },
     "execution_count": 44,
     "metadata": {},
     "output_type": "execute_result"
    }
   ],
   "source": [
    "classifier(\"pet_images/German_shepherd_dog_04890.jpg\",\"resnet\")"
   ]
  },
  {
   "cell_type": "code",
   "execution_count": 41,
   "metadata": {},
   "outputs": [
    {
     "name": "stdout",
     "output_type": "stream",
     "text": [
      "Collecting torchvision\n",
      "  Downloading torchvision-0.7.0-cp38-cp38-macosx_10_9_x86_64.whl (387 kB)\n",
      "\u001b[K     |████████████████████████████████| 387 kB 273 kB/s eta 0:00:01\n",
      "\u001b[?25hRequirement already satisfied: pillow>=4.1.1 in /Applications/anaconda3/lib/python3.8/site-packages (from torchvision) (7.2.0)\n",
      "Requirement already satisfied: numpy in /Applications/anaconda3/lib/python3.8/site-packages (from torchvision) (1.18.5)\n",
      "Collecting torch==1.6.0\n",
      "  Downloading torch-1.6.0-cp38-none-macosx_10_9_x86_64.whl (97.5 MB)\n",
      "\u001b[K     |████████████████████████████████| 97.5 MB 10.9 MB/s eta 0:00:01     |█████████████▏                  | 40.0 MB 10.8 MB/s eta 0:00:06\n",
      "\u001b[?25hRequirement already satisfied: future in /Applications/anaconda3/lib/python3.8/site-packages (from torch==1.6.0->torchvision) (0.18.2)\n",
      "Installing collected packages: torch, torchvision\n",
      "Successfully installed torch-1.6.0 torchvision-0.7.0\n"
     ]
    }
   ],
   "source": [
    "!pip install torchvision"
   ]
  },
  {
   "cell_type": "code",
   "execution_count": 129,
   "metadata": {},
   "outputs": [],
   "source": [
    "def classify_images(images_dir, results_dic, model):\n",
    "    \"\"\"\n",
    "    Creates classifier labels with classifier function, compares pet labels to \n",
    "    the classifier labels, and adds the classifier label and the comparison of \n",
    "    the labels to the results dictionary using the extend function. Be sure to\n",
    "    format the classifier labels so that they will match your pet image labels.\n",
    "    The format will include putting the classifier labels in all lower case \n",
    "    letters and strip the leading and trailing whitespace characters from them.\n",
    "    For example, the Classifier function returns = 'Maltese dog, Maltese terrier, Maltese' \n",
    "    so the classifier label = 'maltese dog, maltese terrier, maltese'.\n",
    "    Recall that dog names from the classifier function can be a string of dog \n",
    "    names separated by commas when a particular breed of dog has multiple dog \n",
    "    names associated with that breed. For example, you will find pet images of\n",
    "    a 'dalmatian'(pet label) and it will match to the classifier label \n",
    "    'dalmatian, coach dog, carriage dog' if the classifier function correctly \n",
    "    classified the pet images of dalmatians.\n",
    "     PLEASE NOTE: This function uses the classifier() function defined in \n",
    "     classifier.py within this function. The proper use of this function is\n",
    "     in test_classifier.py Please refer to this program prior to using the \n",
    "     classifier() function to classify images within this function \n",
    "     Parameters: \n",
    "      images_dir - The (full) path to the folder of images that are to be\n",
    "                   classified by the classifier function (string)\n",
    "      results_dic - Results Dictionary with 'key' as image filename and 'value'\n",
    "                    as a List. Where the list will contain the following items: \n",
    "                  index 0 = pet image label (string)\n",
    "                --- where index 1 & index 2 are added by this function ---\n",
    "                  NEW - index 1 = classifier label (string)\n",
    "                  NEW - index 2 = 1/0 (int)  where 1 = match between pet image\n",
    "                    and classifer labels and 0 = no match between labels\n",
    "      model - Indicates which CNN model architecture will be used by the \n",
    "              classifier function to classify the pet images,\n",
    "              values must be either: resnet alexnet vgg (string)\n",
    "     Returns:\n",
    "           None - results_dic is mutable data type so no return needed.         \n",
    "    \"\"\"\n",
    "    acertos = 0\n",
    "    for key in results_dic:\n",
    "        result = classifier(images_dir+key,model).casefold()\n",
    "        if result.find(results_dic[key]) >= 0:\n",
    "            match = 1\n",
    "            acertos += 1\n",
    "        else: match = 0\n",
    "        results_dic[key] = [results_dic[key], result.casefold(), match]\n",
    "    print(\"########### numero de acertos >>> {}\".format(acertos))\n",
    "    None "
   ]
  },
  {
   "cell_type": "code",
   "execution_count": 167,
   "metadata": {},
   "outputs": [
    {
     "name": "stdout",
     "output_type": "stream",
     "text": [
      "german shepherd dog\n"
     ]
    }
   ],
   "source": [
    "results_dic = {}\n",
    "for filename in filename_list:\n",
    "    results_dic[filename] = labelize(filename)\n",
    "print(results_dic[\"German_shepherd_dog_04931.jpg\"])"
   ]
  },
  {
   "cell_type": "code",
   "execution_count": 168,
   "metadata": {},
   "outputs": [
    {
     "name": "stdout",
     "output_type": "stream",
     "text": [
      "########### numero de acertos >>> 30\n"
     ]
    }
   ],
   "source": [
    "classify_images(\"pet_images/\", results_dic, \"alexnet\")"
   ]
  },
  {
   "cell_type": "code",
   "execution_count": 120,
   "metadata": {},
   "outputs": [
    {
     "name": "stdout",
     "output_type": "stream",
     "text": [
      "{'cat_01.jpg': ['cat', 'norwegian elkhound, elkhound', 0], 'Poodle_07927.jpg': ['poodle', 'standard poodle, poodle', 1], 'cat_02.jpg': ['cat', 'tabby, tabby cat, cat', 1], 'Great_dane_05320.jpg': ['great dane', 'great dane', 1], 'Dalmatian_04068.jpg': ['dalmatian', 'dalmatian, coach dog, carriage dog', 1], 'gecko_02.jpg': ['gecko', 'african chameleon, chamaeleo chamaeleon', 0], 'cat_07.jpg': ['cat', 'egyptian cat, cat', 1], 'Great_pyrenees_05435.jpg': ['great pyrenees', 'great pyrenees', 1], 'German_shepherd_dog_04931.jpg': ['german shepherd dog', 'german shepherd, german shepherd dog, german police dog, alsatian', 1], 'German_shepherd_dog_04890.jpg': ['german shepherd dog', 'german shepherd, german shepherd dog, german police dog, alsatian', 1], 'Collie_03797.jpg': ['collie', 'collie', 1], 'Saint_bernard_08010.jpg': ['saint bernard', 'saint bernard, st bernard', 1], 'Dalmatian_04037.jpg': ['dalmatian', 'dalmatian, coach dog, carriage dog', 1], 'Rabbit_002.jpg': ['rabbit', 'wood rabbit, cottontail, cottontail rabbit, rabbit', 1], 'polar_bear_04.jpg': ['polar bear', 'ice bear, polar bear, ursus maritimus, thalarctos maritimus', 1], 'Poodle_07956.jpg': ['poodle', 'standard poodle, poodle', 1], 'fox_squirrel_01.jpg': ['fox squirrel', 'fox squirrel, eastern fox squirrel, sciurus niger', 1], 'Beagle_01170.jpg': ['beagle', 'walker hound, walker foxhound', 0], 'Boston_terrier_02285.jpg': ['boston terrier', 'boston bull, boston terrier', 1], 'skunk_029.jpg': ['skunk', 'skunk, polecat, wood pussy', 1], 'Boston_terrier_02303.jpg': ['boston terrier', 'boston bull, boston terrier', 1], 'Miniature_schnauzer_06884.jpg': ['miniature schnauzer', 'miniature schnauzer', 1], 'Beagle_01141.jpg': ['beagle', 'beagle', 1], 'Basenji_00974.jpg': ['basenji', 'basenji', 1], 'gecko_80.jpg': ['gecko', 'tailed frog, bell toad, ribbed toad, tailed toad, ascaphus trui', 0], 'Dalmatian_04017.jpg': ['dalmatian', 'dalmatian, coach dog, carriage dog', 1], 'Boxer_02426.jpg': ['boxer', 'boxer', 1], 'Basenji_00963.jpg': ['basenji', 'basenji', 1], 'Boston_terrier_02259.jpg': ['boston terrier', 'boston bull, boston terrier', 1], 'Golden_retriever_05182.jpg': ['golden retriever', 'leonberg', 0], 'Golden_retriever_05223.jpg': ['golden retriever', 'golden retriever', 1], 'great_horned_owl_02.jpg': ['great horned owl', 'great grey owl, great gray owl, strix nebulosa', 0], 'Saint_bernard_08036.jpg': ['saint bernard', 'saint bernard, st bernard', 1], 'Golden_retriever_05195.jpg': ['golden retriever', 'golden retriever', 1], 'Beagle_01125.jpg': ['beagle', 'beagle', 1], 'Great_pyrenees_05367.jpg': ['great pyrenees', 'kuvasz', 0], 'German_shorthaired_pointer_04986.jpg': ['german shorthaired pointer', 'german shorthaired pointer', 1], 'Cocker_spaniel_03750.jpg': ['cocker spaniel', 'cocker spaniel, english cocker spaniel, cocker', 1], 'Golden_retriever_05257.jpg': ['golden retriever', 'golden retriever', 1], 'Basset_hound_01034.jpg': ['basset hound', 'basset, basset hound', 1]}\n"
     ]
    }
   ],
   "source": [
    "print(results_dic)"
   ]
  },
  {
   "cell_type": "code",
   "execution_count": 126,
   "metadata": {},
   "outputs": [
    {
     "name": "stdout",
     "output_type": "stream",
     "text": [
      "Poodle_07927.jpg\n",
      "cat_02.jpg\n",
      "Great_dane_05320.jpg\n",
      "Dalmatian_04068.jpg\n",
      "cat_07.jpg\n",
      "Great_pyrenees_05435.jpg\n",
      "German_shepherd_dog_04931.jpg\n",
      "German_shepherd_dog_04890.jpg\n",
      "Collie_03797.jpg\n",
      "Saint_bernard_08010.jpg\n",
      "Dalmatian_04037.jpg\n",
      "Rabbit_002.jpg\n",
      "polar_bear_04.jpg\n",
      "Poodle_07956.jpg\n",
      "fox_squirrel_01.jpg\n",
      "Boston_terrier_02285.jpg\n",
      "skunk_029.jpg\n",
      "Boston_terrier_02303.jpg\n",
      "Miniature_schnauzer_06884.jpg\n",
      "Beagle_01141.jpg\n",
      "Basenji_00974.jpg\n",
      "Dalmatian_04017.jpg\n",
      "Boxer_02426.jpg\n",
      "Basenji_00963.jpg\n",
      "Boston_terrier_02259.jpg\n",
      "Golden_retriever_05223.jpg\n",
      "Saint_bernard_08036.jpg\n",
      "Golden_retriever_05195.jpg\n",
      "Beagle_01125.jpg\n",
      "German_shorthaired_pointer_04986.jpg\n",
      "Cocker_spaniel_03750.jpg\n",
      "Golden_retriever_05257.jpg\n",
      "Basset_hound_01034.jpg\n",
      "33\n"
     ]
    }
   ],
   "source": [
    "acertos = 0\n",
    "for key in results_dic:\n",
    "    acertos = acertos + results_dic[key][2]\n",
    "    if results_dic[key][2] == 1: print(key)\n",
    "print(acertos)\n"
   ]
  },
  {
   "cell_type": "code",
   "execution_count": 123,
   "metadata": {},
   "outputs": [
    {
     "data": {
      "text/plain": [
       "['cat', 'norwegian elkhound, elkhound', 0]"
      ]
     },
     "execution_count": 123,
     "metadata": {},
     "output_type": "execute_result"
    }
   ],
   "source": [
    "results_dic['cat_01.jpg']"
   ]
  },
  {
   "cell_type": "code",
   "execution_count": 132,
   "metadata": {},
   "outputs": [
    {
     "name": "stdout",
     "output_type": "stream",
     "text": [
      "cat_01.jpg - norwegian elkhound, elkhound\n",
      "gecko_02.jpg - african chameleon, chamaeleo chamaeleon\n",
      "Beagle_01170.jpg - walker hound, walker foxhound\n",
      "gecko_80.jpg - tailed frog, bell toad, ribbed toad, tailed toad, ascaphus trui\n",
      "Golden_retriever_05182.jpg - leonberg\n",
      "great_horned_owl_02.jpg - great grey owl, great gray owl, strix nebulosa\n",
      "Great_pyrenees_05367.jpg - kuvasz\n",
      "33\n"
     ]
    }
   ],
   "source": [
    "acertos = 0\n",
    "for key in results_dic:\n",
    "    acertos = acertos + results_dic[key][2]\n",
    "    if results_dic[key][2] != 1: print(key + \" - \" + results_dic[key][1])\n",
    "print(acertos)"
   ]
  },
  {
   "cell_type": "code",
   "execution_count": 64,
   "metadata": {},
   "outputs": [
    {
     "name": "stdout",
     "output_type": "stream",
     "text": [
      "{'cat_01.jpg': ['cat', 'German shepherd, German shepherd dog, German police dog, alsatian', 0], 'Poodle_07927.jpg': ['poodle', 'German shepherd, German shepherd dog, German police dog, alsatian', 0], 'cat_02.jpg': ['cat', 'German shepherd, German shepherd dog, German police dog, alsatian', 0], 'Great_dane_05320.jpg': ['great dane', 'German shepherd, German shepherd dog, German police dog, alsatian', 0], 'Dalmatian_04068.jpg': ['dalmatian', 'German shepherd, German shepherd dog, German police dog, alsatian', 0], 'gecko_02.jpg': ['gecko', 'German shepherd, German shepherd dog, German police dog, alsatian', 0], 'cat_07.jpg': ['cat', 'German shepherd, German shepherd dog, German police dog, alsatian', 0], 'Great_pyrenees_05435.jpg': ['great pyrenees', 'German shepherd, German shepherd dog, German police dog, alsatian', 0], 'German_shepherd_dog_04931.jpg': ['german shepherd dog', 'German shepherd, German shepherd dog, German police dog, alsatian', 0], 'German_shepherd_dog_04890.jpg': ['german shepherd dog', 'German shepherd, German shepherd dog, German police dog, alsatian', 0], 'Collie_03797.jpg': ['collie', 'German shepherd, German shepherd dog, German police dog, alsatian', 0], 'Saint_bernard_08010.jpg': ['saint bernard', 'German shepherd, German shepherd dog, German police dog, alsatian', 0], 'Dalmatian_04037.jpg': ['dalmatian', 'German shepherd, German shepherd dog, German police dog, alsatian', 0], 'Rabbit_002.jpg': ['rabbit', 'German shepherd, German shepherd dog, German police dog, alsatian', 0], 'polar_bear_04.jpg': ['polar bear', 'German shepherd, German shepherd dog, German police dog, alsatian', 0], 'Poodle_07956.jpg': ['poodle', 'German shepherd, German shepherd dog, German police dog, alsatian', 0], 'fox_squirrel_01.jpg': ['fox squirrel', 'German shepherd, German shepherd dog, German police dog, alsatian', 0], 'Beagle_01170.jpg': ['beagle', 'German shepherd, German shepherd dog, German police dog, alsatian', 0], 'Boston_terrier_02285.jpg': ['boston terrier', 'German shepherd, German shepherd dog, German police dog, alsatian', 0], 'skunk_029.jpg': ['skunk', 'German shepherd, German shepherd dog, German police dog, alsatian', 0], 'Boston_terrier_02303.jpg': ['boston terrier', 'German shepherd, German shepherd dog, German police dog, alsatian', 0], 'Miniature_schnauzer_06884.jpg': ['miniature schnauzer', 'German shepherd, German shepherd dog, German police dog, alsatian', 0], 'Beagle_01141.jpg': ['beagle', 'German shepherd, German shepherd dog, German police dog, alsatian', 0], 'Basenji_00974.jpg': ['basenji', 'German shepherd, German shepherd dog, German police dog, alsatian', 0], 'gecko_80.jpg': ['gecko', 'German shepherd, German shepherd dog, German police dog, alsatian', 0], 'Dalmatian_04017.jpg': ['dalmatian', 'German shepherd, German shepherd dog, German police dog, alsatian', 0], 'Boxer_02426.jpg': ['boxer', 'German shepherd, German shepherd dog, German police dog, alsatian', 0], 'Basenji_00963.jpg': ['basenji', 'German shepherd, German shepherd dog, German police dog, alsatian', 0], 'Boston_terrier_02259.jpg': ['boston terrier', 'German shepherd, German shepherd dog, German police dog, alsatian', 0], 'Golden_retriever_05182.jpg': ['golden retriever', 'German shepherd, German shepherd dog, German police dog, alsatian', 0], 'Golden_retriever_05223.jpg': ['golden retriever', 'German shepherd, German shepherd dog, German police dog, alsatian', 0], 'great_horned_owl_02.jpg': ['great horned owl', 'German shepherd, German shepherd dog, German police dog, alsatian', 0], 'Saint_bernard_08036.jpg': ['saint bernard', 'German shepherd, German shepherd dog, German police dog, alsatian', 0], 'Golden_retriever_05195.jpg': ['golden retriever', 'German shepherd, German shepherd dog, German police dog, alsatian', 0], 'Beagle_01125.jpg': ['beagle', 'German shepherd, German shepherd dog, German police dog, alsatian', 0], 'Great_pyrenees_05367.jpg': ['great pyrenees', 'German shepherd, German shepherd dog, German police dog, alsatian', 0], 'German_shorthaired_pointer_04986.jpg': ['german shorthaired pointer', 'German shepherd, German shepherd dog, German police dog, alsatian', 0], 'Cocker_spaniel_03750.jpg': ['cocker spaniel', 'German shepherd, German shepherd dog, German police dog, alsatian', 0], 'Golden_retriever_05257.jpg': ['golden retriever', 'German shepherd, German shepherd dog, German police dog, alsatian', 0], 'Basset_hound_01034.jpg': ['basset hound', 'German shepherd, German shepherd dog, German police dog, alsatian', 0]}\n"
     ]
    }
   ],
   "source": [
    "print(results_dic)"
   ]
  },
  {
   "cell_type": "code",
   "execution_count": 75,
   "metadata": {},
   "outputs": [
    {
     "name": "stdout",
     "output_type": "stream",
     "text": [
      "Falso\n"
     ]
    }
   ],
   "source": [
    "list = [\"asDf, qwEr, asdf\"]\n",
    "asdf = \"asdf\"\n",
    "if asdf in list: print(\"Verdadeiro\")\n",
    "else: print(\"Falso\")"
   ]
  },
  {
   "cell_type": "code",
   "execution_count": 73,
   "metadata": {},
   "outputs": [
    {
     "ename": "NameError",
     "evalue": "name 'casefold' is not defined",
     "output_type": "error",
     "traceback": [
      "\u001b[0;31m---------------------------------------------------------------------------\u001b[0m",
      "\u001b[0;31mNameError\u001b[0m                                 Traceback (most recent call last)",
      "\u001b[0;32m<ipython-input-73-c4b9be13dabf>\u001b[0m in \u001b[0;36m<module>\u001b[0;34m\u001b[0m\n\u001b[0;32m----> 1\u001b[0;31m \u001b[0mprint\u001b[0m\u001b[0;34m(\u001b[0m\u001b[0mcasefold\u001b[0m\u001b[0;34m(\u001b[0m\u001b[0mlist\u001b[0m\u001b[0;34m)\u001b[0m\u001b[0;34m)\u001b[0m\u001b[0;34m\u001b[0m\u001b[0;34m\u001b[0m\u001b[0m\n\u001b[0m",
      "\u001b[0;31mNameError\u001b[0m: name 'casefold' is not defined"
     ]
    }
   ],
   "source": [
    "print(casefold(list))"
   ]
  },
  {
   "cell_type": "code",
   "execution_count": 169,
   "metadata": {},
   "outputs": [
    {
     "name": "stdout",
     "output_type": "stream",
     "text": [
      "{'cat_01.jpg': ['cat', 'african hunting dog, hyena dog, cape hunting dog, lycaon pictus', 0, 0, 0], 'Poodle_07927.jpg': ['poodle', 'standard poodle, poodle', 1, 1, 1], 'cat_02.jpg': ['cat', 'tiger cat, cat', 1, 0, 0], 'Great_dane_05320.jpg': ['great dane', 'great dane', 1, 1, 1], 'Dalmatian_04068.jpg': ['dalmatian', 'dalmatian, coach dog, carriage dog', 1, 1, 1], 'gecko_02.jpg': ['gecko', 'alligator lizard', 0, 0, 0], 'cat_07.jpg': ['cat', 'egyptian cat, cat', 1, 0, 0], 'Great_pyrenees_05435.jpg': ['great pyrenees', 'great pyrenees', 1, 1, 1], 'German_shepherd_dog_04931.jpg': ['german shepherd dog', 'german shepherd, german shepherd dog, german police dog, alsatian', 1, 1, 1], 'German_shepherd_dog_04890.jpg': ['german shepherd dog', 'german shepherd, german shepherd dog, german police dog, alsatian', 1, 1, 1], 'Collie_03797.jpg': ['collie', 'collie', 1, 1, 1], 'Saint_bernard_08010.jpg': ['saint bernard', 'saint bernard, st bernard', 1, 1, 1], 'Dalmatian_04037.jpg': ['dalmatian', 'dalmatian, coach dog, carriage dog', 1, 1, 1], 'Rabbit_002.jpg': ['rabbit', 'wood rabbit, cottontail, cottontail rabbit, rabbit', 1, 0, 0], 'polar_bear_04.jpg': ['polar bear', 'ice bear, polar bear, ursus maritimus, thalarctos maritimus', 1, 0, 0], 'Poodle_07956.jpg': ['poodle', 'standard poodle, poodle', 1, 1, 1], 'fox_squirrel_01.jpg': ['fox squirrel', 'fox squirrel, eastern fox squirrel, sciurus niger', 1, 0, 0], 'Beagle_01170.jpg': ['beagle', 'walker hound, walker foxhound', 0, 1, 1], 'Boston_terrier_02285.jpg': ['boston terrier', 'basenji', 0, 1, 1], 'skunk_029.jpg': ['skunk', 'skunk, polecat, wood pussy', 1, 0, 0], 'Boston_terrier_02303.jpg': ['boston terrier', 'boston bull, boston terrier', 1, 1, 1], 'Miniature_schnauzer_06884.jpg': ['miniature schnauzer', 'miniature schnauzer', 1, 1, 1], 'Beagle_01141.jpg': ['beagle', 'english foxhound', 0, 1, 1], 'Basenji_00974.jpg': ['basenji', 'basenji', 1, 1, 1], 'gecko_80.jpg': ['gecko', 'tree frog, tree-frog', 0, 0, 0], 'Dalmatian_04017.jpg': ['dalmatian', 'dalmatian, coach dog, carriage dog', 1, 1, 1], 'Boxer_02426.jpg': ['boxer', 'boxer', 1, 1, 1], 'Basenji_00963.jpg': ['basenji', 'basenji', 1, 1, 1], 'Boston_terrier_02259.jpg': ['boston terrier', 'boston bull, boston terrier', 1, 1, 1], 'Golden_retriever_05182.jpg': ['golden retriever', 'tibetan mastiff', 0, 1, 1], 'Golden_retriever_05223.jpg': ['golden retriever', 'golden retriever', 1, 1, 1], 'great_horned_owl_02.jpg': ['great horned owl', 'ruffed grouse, partridge, bonasa umbellus', 0, 0, 0], 'Saint_bernard_08036.jpg': ['saint bernard', 'saint bernard, st bernard', 1, 1, 1], 'Golden_retriever_05195.jpg': ['golden retriever', 'golden retriever', 1, 1, 1], 'Beagle_01125.jpg': ['beagle', 'beagle', 1, 1, 1], 'Great_pyrenees_05367.jpg': ['great pyrenees', 'kuvasz', 0, 1, 1], 'German_shorthaired_pointer_04986.jpg': ['german shorthaired pointer', 'german shorthaired pointer', 1, 1, 1], 'Cocker_spaniel_03750.jpg': ['cocker spaniel', 'cocker spaniel, english cocker spaniel, cocker', 1, 1, 1], 'Golden_retriever_05257.jpg': ['golden retriever', 'afghan hound, afghan', 0, 1, 1], 'Basset_hound_01034.jpg': ['basset hound', 'basset, basset hound', 1, 1, 1]}\n"
     ]
    }
   ],
   "source": [
    "dognames = {}\n",
    "with open('dognames.txt', 'r') as f:\n",
    "    for line in f:\n",
    "        dognames[line[:-1]]=1\n",
    "\n",
    "for key in results_dic:\n",
    "    if results_dic[key][0] in dognames: \n",
    "        results_dic[key].append(1)\n",
    "    else:\n",
    "        results_dic[key].append(0)\n",
    "\n",
    "    if results_dic[key][1] in dognames: \n",
    "        results_dic[key].append(1)\n",
    "    else:\n",
    "        results_dic[key].append(0)\n",
    "\n",
    "\n",
    "print(results_dic)"
   ]
  },
  {
   "cell_type": "code",
   "execution_count": 142,
   "metadata": {},
   "outputs": [
    {
     "name": "stdout",
     "output_type": "stream",
     "text": [
      "['chihuahua', 'japanese spaniel', 'maltese dog, maltese terrier, maltese', 'pekinese, pekingese, peke', 'shih-tzu', 'blenheim spaniel', 'papillon', 'toy terrier', 'rhodesian ridgeback', 'afghan hound, afghan', 'basset, basset hound', 'beagle', 'bloodhound, sleuthhound', 'bluetick', 'black-and-tan coonhound', 'walker hound, walker foxhound', 'english foxhound', 'redbone', 'borzoi, russian wolfhound', 'irish wolfhound', 'italian greyhound', 'whippet', 'ibizan hound, ibizan podenco', 'norwegian elkhound, elkhound', 'otterhound, otter hound', 'saluki, gazelle hound', 'scottish deerhound, deerhound', 'weimaraner', 'staffordshire bullterrier, staffordshire bull terrier', 'american staffordshire terrier, staffordshire terrier, american pit bull terrier, pit bull terrier', 'bedlington terrier', 'border terrier', 'kerry blue terrier', 'irish terrier', 'norfolk terrier', 'norwich terrier', 'yorkshire terrier', 'wire-haired fox terrier', 'lakeland terrier', 'sealyham terrier, sealyham', 'airedale, airedale terrier', 'cairn, cairn terrier', 'australian terrier', 'dandie dinmont, dandie dinmont terrier', 'boston bull, boston terrier', 'miniature schnauzer', 'giant schnauzer', 'standard schnauzer, schnauzer', 'scotch terrier, scottish terrier, scottie', 'tibetan terrier, chrysanthemum dog', 'silky terrier, sydney silky', 'soft-coated wheaten terrier', 'west highland white terrier', 'lhasa, lhasa apso', 'flat-coated retriever', 'curly-coated retriever', 'golden retriever', 'labrador retriever', 'chesapeake bay retriever', 'german shorthaired pointer', 'vizsla, hungarian pointer', 'english setter', 'irish setter, red setter', 'gordon setter', 'brittany spaniel', 'clumber, clumber spaniel', 'english springer, english springer spaniel', 'welsh springer spaniel', 'cocker spaniel, english cocker spaniel, cocker', 'sussex spaniel', 'irish water spaniel', 'kuvasz', 'schipperke', 'groenendael', 'malinois', 'briard', 'kelpie', 'komondor', 'old english sheepdog, bobtail', 'shetland sheepdog, shetland sheep dog, shetland', 'collie', 'border collie', 'bouvier des flandres, bouviers des flandres', 'rottweiler', 'german shepherd, german shepherd dog, german police dog, alsatian', 'doberman, doberman pinscher', 'miniature pinscher', 'greater swiss mountain dog', 'bernese mountain dog', 'appenzeller', 'entlebucher', 'boxer', 'bull mastiff', 'tibetan mastiff', 'french bulldog', 'great dane', 'saint bernard, st bernard', 'eskimo dog, husky', 'malamute, malemute, alaskan malamute', 'siberian husky', 'dalmatian, coach dog, carriage dog', 'affenpinscher, monkey pinscher, monkey dog', 'basenji', 'pug, pug-dog', 'leonberg', 'newfoundland, newfoundland dog', 'great pyrenees', 'samoyed, samoyede', 'pomeranian', 'chow, chow chow', 'keeshond', 'brabancon griffon', 'pembroke, pembroke welsh corgi, corgi', 'cardigan, cardigan welsh corgi, corgi', 'toy poodle', 'miniature poodle', 'standard poodle, poodle', 'mexican hairless', 'affenpinscher', 'afghan hound', 'airedale terrier', 'akita', 'alaskan malamute', 'american eskimo dog', 'american foxhound', 'american staffordshire terrier', 'american water spaniel', 'anatolian shepherd dog', 'australian cattle dog', 'australian shepherd', 'basset hound', 'bearded collie', 'beauceron', 'belgian malinois', 'belgian sheepdog', 'belgian tervuren', 'bichon frise', 'black and tan coonhound', 'black russian terrier', 'bloodhound', 'bluetick coonhound', 'borzoi', 'boston terrier', 'bouvier des flandres', 'boykin spaniel', 'brittany', 'brussels griffon', 'bull terrier', 'bulldog', 'bullmastiff', 'cairn terrier', 'canaan dog', 'cane corso', 'cardigan welsh corgi', 'cavalier king charles spaniel', 'chinese crested', 'chinese shar-pei', 'chow chow', 'clumber spaniel', 'cocker spaniel', 'corgi', 'dachshund', 'dalmatian', 'dandie dinmont terrier', 'deerhound', 'doberman pinscher', 'dogue de bordeaux', 'english cocker spaniel', 'english springer spaniel', 'english toy spaniel', 'entlebucher mountain dog', 'field spaniel', 'finnish spitz', 'german pinscher', 'german shepherd dog', 'german wirehaired pointer', 'glen of imaal terrier', 'greyhound', 'havanese', 'ibizan hound', 'icelandic sheepdog', 'irish red and white setter', 'irish setter', 'japanese chin', 'leonberger', 'lhasa apso', 'lowchen', 'maltese', 'manchester terrier', 'mastiff', 'neapolitan mastiff', 'newfoundland', 'norwegian buhund', 'norwegian elkhound', 'norwegian lundehund', 'nova scotia duck tolling retriever', 'old english sheepdog', 'otterhound', 'parson russell terrier', 'pekingese', 'pembroke welsh corgi', 'petit basset griffon vendeen', 'pharaoh hound', 'plott', 'pointer', 'poodle', 'portuguese water dog', 'pug', 'saint bernard', 'saluki', 'samoyed', 'schnauzer', 'scottish terrier', 'sealyham terrier', 'shetland sheepdog', 'silky terrier', 'smooth fox terrier', 'staffordshire bull terrier', 'tibetan terrier', 'vizsla', 'walker hound', 'wirehaired pointing griffon', 'xoloitzcuintli', 'dog', '']\n"
     ]
    }
   ],
   "source": [
    "dognames = file_data.split('\\n')\n",
    "print(dognames)"
   ]
  },
  {
   "cell_type": "code",
   "execution_count": 156,
   "metadata": {},
   "outputs": [
    {
     "data": {
      "text/plain": [
       "['dalmatian', 'dalmatian, coach dog, carriage dog', 1]"
      ]
     },
     "execution_count": 156,
     "metadata": {},
     "output_type": "execute_result"
    }
   ],
   "source": [
    "results_dic['Dalmatian_04068.jpg']"
   ]
  },
  {
   "cell_type": "code",
   "execution_count": 157,
   "metadata": {},
   "outputs": [],
   "source": [
    "lista_tst = ['dalmatian', 'dalmatian, coach dog, carriage dog', 1]"
   ]
  },
  {
   "cell_type": "code",
   "execution_count": 158,
   "metadata": {},
   "outputs": [
    {
     "data": {
      "text/plain": [
       "1"
      ]
     },
     "execution_count": 158,
     "metadata": {},
     "output_type": "execute_result"
    }
   ],
   "source": [
    "lista_tst[2]"
   ]
  },
  {
   "cell_type": "code",
   "execution_count": 159,
   "metadata": {},
   "outputs": [
    {
     "data": {
      "text/plain": [
       "['dalmatian', 'dalmatian, coach dog, carriage dog', 1, 1]"
      ]
     },
     "execution_count": 159,
     "metadata": {},
     "output_type": "execute_result"
    }
   ],
   "source": [
    "lista_tst.append(1)\n",
    "lista_tst"
   ]
  },
  {
   "cell_type": "code",
   "execution_count": 163,
   "metadata": {},
   "outputs": [
    {
     "data": {
      "text/plain": [
       "'dalmatian, coach dog, carriage dog'"
      ]
     },
     "execution_count": 163,
     "metadata": {},
     "output_type": "execute_result"
    }
   ],
   "source": [
    "results_dic['Dalmatian_04068.jpg'][1] in dognames"
   ]
  },
  {
   "cell_type": "code",
   "execution_count": 165,
   "metadata": {},
   "outputs": [
    {
     "name": "stdout",
     "output_type": "stream",
     "text": [
      "dalmatian, coach dog, carriage dog\n"
     ]
    }
   ],
   "source": [
    "for key in dognames:\n",
    "    if results_dic['Dalmatian_04068.jpg'][1] == key:\n",
    "        print(key)"
   ]
  },
  {
   "cell_type": "code",
   "execution_count": 166,
   "metadata": {},
   "outputs": [
    {
     "name": "stdout",
     "output_type": "stream",
     "text": [
      "{'chihuahua': 1, 'japanese spaniel': 1, 'maltese dog, maltese terrier, maltese': 1, 'pekinese, pekingese, peke': 1, 'shih-tzu': 1, 'blenheim spaniel': 1, 'papillon': 1, 'toy terrier': 1, 'rhodesian ridgeback': 1, 'afghan hound, afghan': 1, 'basset, basset hound': 1, 'beagle': 1, 'bloodhound, sleuthhound': 1, 'bluetick': 1, 'black-and-tan coonhound': 1, 'walker hound, walker foxhound': 1, 'english foxhound': 1, 'redbone': 1, 'borzoi, russian wolfhound': 1, 'irish wolfhound': 1, 'italian greyhound': 1, 'whippet': 1, 'ibizan hound, ibizan podenco': 1, 'norwegian elkhound, elkhound': 1, 'otterhound, otter hound': 1, 'saluki, gazelle hound': 1, 'scottish deerhound, deerhound': 1, 'weimaraner': 1, 'staffordshire bullterrier, staffordshire bull terrier': 1, 'american staffordshire terrier, staffordshire terrier, american pit bull terrier, pit bull terrier': 1, 'bedlington terrier': 1, 'border terrier': 1, 'kerry blue terrier': 1, 'irish terrier': 1, 'norfolk terrier': 1, 'norwich terrier': 1, 'yorkshire terrier': 1, 'wire-haired fox terrier': 1, 'lakeland terrier': 1, 'sealyham terrier, sealyham': 1, 'airedale, airedale terrier': 1, 'cairn, cairn terrier': 1, 'australian terrier': 1, 'dandie dinmont, dandie dinmont terrier': 1, 'boston bull, boston terrier': 1, 'miniature schnauzer': 1, 'giant schnauzer': 1, 'standard schnauzer, schnauzer': 1, 'scotch terrier, scottish terrier, scottie': 1, 'tibetan terrier, chrysanthemum dog': 1, 'silky terrier, sydney silky': 1, 'soft-coated wheaten terrier': 1, 'west highland white terrier': 1, 'lhasa, lhasa apso': 1, 'flat-coated retriever': 1, 'curly-coated retriever': 1, 'golden retriever': 1, 'labrador retriever': 1, 'chesapeake bay retriever': 1, 'german shorthaired pointer': 1, 'vizsla, hungarian pointer': 1, 'english setter': 1, 'irish setter, red setter': 1, 'gordon setter': 1, 'brittany spaniel': 1, 'clumber, clumber spaniel': 1, 'english springer, english springer spaniel': 1, 'welsh springer spaniel': 1, 'cocker spaniel, english cocker spaniel, cocker': 1, 'sussex spaniel': 1, 'irish water spaniel': 1, 'kuvasz': 1, 'schipperke': 1, 'groenendael': 1, 'malinois': 1, 'briard': 1, 'kelpie': 1, 'komondor': 1, 'old english sheepdog, bobtail': 1, 'shetland sheepdog, shetland sheep dog, shetland': 1, 'collie': 1, 'border collie': 1, 'bouvier des flandres, bouviers des flandres': 1, 'rottweiler': 1, 'german shepherd, german shepherd dog, german police dog, alsatian': 1, 'doberman, doberman pinscher': 1, 'miniature pinscher': 1, 'greater swiss mountain dog': 1, 'bernese mountain dog': 1, 'appenzeller': 1, 'entlebucher': 1, 'boxer': 1, 'bull mastiff': 1, 'tibetan mastiff': 1, 'french bulldog': 1, 'great dane': 1, 'saint bernard, st bernard': 1, 'eskimo dog, husky': 1, 'malamute, malemute, alaskan malamute': 1, 'siberian husky': 1, 'dalmatian, coach dog, carriage dog': 1, 'affenpinscher, monkey pinscher, monkey dog': 1, 'basenji': 1, 'pug, pug-dog': 1, 'leonberg': 1, 'newfoundland, newfoundland dog': 1, 'great pyrenees': 1, 'samoyed, samoyede': 1, 'pomeranian': 1, 'chow, chow chow': 1, 'keeshond': 1, 'brabancon griffon': 1, 'pembroke, pembroke welsh corgi, corgi': 1, 'cardigan, cardigan welsh corgi, corgi': 1, 'toy poodle': 1, 'miniature poodle': 1, 'standard poodle, poodle': 1, 'mexican hairless': 1, 'affenpinscher': 1, 'afghan hound': 1, 'airedale terrier': 1, 'akita': 1, 'alaskan malamute': 1, 'american eskimo dog': 1, 'american foxhound': 1, 'american staffordshire terrier': 1, 'american water spaniel': 1, 'anatolian shepherd dog': 1, 'australian cattle dog': 1, 'australian shepherd': 1, 'basset hound': 1, 'bearded collie': 1, 'beauceron': 1, 'belgian malinois': 1, 'belgian sheepdog': 1, 'belgian tervuren': 1, 'bichon frise': 1, 'black and tan coonhound': 1, 'black russian terrier': 1, 'bloodhound': 1, 'bluetick coonhound': 1, 'borzoi': 1, 'boston terrier': 1, 'bouvier des flandres': 1, 'boykin spaniel': 1, 'brittany': 1, 'brussels griffon': 1, 'bull terrier': 1, 'bulldog': 1, 'bullmastiff': 1, 'cairn terrier': 1, 'canaan dog': 1, 'cane corso': 1, 'cardigan welsh corgi': 1, 'cavalier king charles spaniel': 1, 'chinese crested': 1, 'chinese shar-pei': 1, 'chow chow': 1, 'clumber spaniel': 1, 'cocker spaniel': 1, 'corgi': 1, 'dachshund': 1, 'dalmatian': 1, 'dandie dinmont terrier': 1, 'deerhound': 1, 'doberman pinscher': 1, 'dogue de bordeaux': 1, 'english cocker spaniel': 1, 'english springer spaniel': 1, 'english toy spaniel': 1, 'entlebucher mountain dog': 1, 'field spaniel': 1, 'finnish spitz': 1, 'german pinscher': 1, 'german shepherd dog': 1, 'german wirehaired pointer': 1, 'glen of imaal terrier': 1, 'greyhound': 1, 'havanese': 1, 'ibizan hound': 1, 'icelandic sheepdog': 1, 'irish red and white setter': 1, 'irish setter': 1, 'japanese chin': 1, 'leonberger': 1, 'lhasa apso': 1, 'lowchen': 1, 'maltese': 1, 'manchester terrier': 1, 'mastiff': 1, 'neapolitan mastiff': 1, 'newfoundland': 1, 'norwegian buhund': 1, 'norwegian elkhound': 1, 'norwegian lundehund': 1, 'nova scotia duck tolling retriever': 1, 'old english sheepdog': 1, 'otterhound': 1, 'parson russell terrier': 1, 'pekingese': 1, 'pembroke welsh corgi': 1, 'petit basset griffon vendeen': 1, 'pharaoh hound': 1, 'plott': 1, 'pointer': 1, 'poodle': 1, 'portuguese water dog': 1, 'pug': 1, 'saint bernard': 1, 'saluki': 1, 'samoyed': 1, 'schnauzer': 1, 'scottish terrier': 1, 'sealyham terrier': 1, 'shetland sheepdog': 1, 'silky terrier': 1, 'smooth fox terrier': 1, 'staffordshire bull terrier': 1, 'tibetan terrier': 1, 'vizsla': 1, 'walker hound': 1, 'wirehaired pointing griffon': 1, 'xoloitzcuintli': 1, 'dog': 1}\n"
     ]
    }
   ],
   "source": [
    "print(dognames)"
   ]
  },
  {
   "cell_type": "code",
   "execution_count": null,
   "metadata": {},
   "outputs": [],
   "source": []
  }
 ],
 "metadata": {
  "kernelspec": {
   "display_name": "Python 3",
   "language": "python",
   "name": "python3"
  },
  "language_info": {
   "codemirror_mode": {
    "name": "ipython",
    "version": 3
   },
   "file_extension": ".py",
   "mimetype": "text/x-python",
   "name": "python",
   "nbconvert_exporter": "python",
   "pygments_lexer": "ipython3",
   "version": "3.8.3"
  }
 },
 "nbformat": 4,
 "nbformat_minor": 4
}
