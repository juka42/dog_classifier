{
 "cells": [
  {
   "cell_type": "code",
   "execution_count": 1,
   "metadata": {},
   "outputs": [
    {
     "data": {
      "text/plain": [
       "'/Users/juka42/Desktop/Udacity/python_AI/project01/workspace'"
      ]
     },
     "execution_count": 1,
     "metadata": {},
     "output_type": "execute_result"
    }
   ],
   "source": [
    "pwd\n"
   ]
  },
  {
   "cell_type": "code",
   "execution_count": 1,
   "metadata": {},
   "outputs": [
    {
     "name": "stdout",
     "output_type": "stream",
     "text": [
      "\n",
      "Prints 10 filenames from folder pet_images/\n",
      " 1 file:                cat_01.jpg\n",
      " 2 file:          Poodle_07927.jpg\n",
      " 3 file:                cat_02.jpg\n",
      " 4 file:      Great_dane_05320.jpg\n",
      " 5 file:       Dalmatian_04068.jpg\n",
      " 6 file:              gecko_02.jpg\n",
      " 7 file:                cat_07.jpg\n",
      " 8 file:  Great_pyrenees_05435.jpg\n",
      " 9 file: German_shepherd_dog_04931.jpg\n",
      "10 file: German_shepherd_dog_04890.jpg\n",
      "11 file:          Collie_03797.jpg\n",
      "12 file:   Saint_bernard_08010.jpg\n",
      "13 file:       Dalmatian_04037.jpg\n",
      "14 file:            Rabbit_002.jpg\n",
      "15 file:         polar_bear_04.jpg\n",
      "16 file:          Poodle_07956.jpg\n",
      "17 file:       fox_squirrel_01.jpg\n",
      "18 file:          Beagle_01170.jpg\n",
      "19 file:  Boston_terrier_02285.jpg\n",
      "20 file:             skunk_029.jpg\n",
      "21 file:  Boston_terrier_02303.jpg\n",
      "22 file: Miniature_schnauzer_06884.jpg\n",
      "23 file:          Beagle_01141.jpg\n",
      "24 file:         Basenji_00974.jpg\n",
      "25 file:              gecko_80.jpg\n",
      "26 file:       Dalmatian_04017.jpg\n",
      "27 file:           Boxer_02426.jpg\n",
      "28 file:         Basenji_00963.jpg\n",
      "29 file:  Boston_terrier_02259.jpg\n",
      "30 file: Golden_retriever_05182.jpg\n",
      "31 file: Golden_retriever_05223.jpg\n",
      "32 file:   great_horned_owl_02.jpg\n",
      "33 file:   Saint_bernard_08036.jpg\n",
      "34 file: Golden_retriever_05195.jpg\n",
      "35 file:          Beagle_01125.jpg\n",
      "36 file:  Great_pyrenees_05367.jpg\n",
      "37 file: German_shorthaired_pointer_04986.jpg\n",
      "38 file:  Cocker_spaniel_03750.jpg\n",
      "39 file: Golden_retriever_05257.jpg\n",
      "40 file:    Basset_hound_01034.jpg\n"
     ]
    }
   ],
   "source": [
    "# Imports only listdir function from OS module \n",
    "from os import listdir  \n",
    "\n",
    "# Retrieve the filenames from folder pet_images/\n",
    "filename_list = listdir(\"pet_images/\")\n",
    "\n",
    "# Print 10 of the filenames from folder pet_images/\n",
    "print(\"\\nPrints 10 filenames from folder pet_images/\")\n",
    "for idx in range(0, len(filename_list), 1):\n",
    "    print(\"{:2d} file: {:>25}\".format(idx + 1, filename_list[idx]) )"
   ]
  },
  {
   "cell_type": "code",
   "execution_count": 2,
   "metadata": {},
   "outputs": [
    {
     "name": "stdout",
     "output_type": "stream",
     "text": [
      "Poodle_07927\n"
     ]
    }
   ],
   "source": [
    "name = filename_list[1].split('.')[0]\n",
    "print(name)"
   ]
  },
  {
   "cell_type": "code",
   "execution_count": 3,
   "metadata": {},
   "outputs": [
    {
     "data": {
      "text/plain": [
       "list"
      ]
     },
     "execution_count": 3,
     "metadata": {},
     "output_type": "execute_result"
    }
   ],
   "source": [
    "type(filename_list)"
   ]
  },
  {
   "cell_type": "code",
   "execution_count": 31,
   "metadata": {},
   "outputs": [
    {
     "name": "stdout",
     "output_type": "stream",
     "text": [
      "basset hound\n",
      "   asdf   !\n",
      "asdf!\n"
     ]
    }
   ],
   "source": [
    "def labelize(filename):\n",
    "    label=''\n",
    "    for i in range(len(filename)):\n",
    "        if filename[i].isalpha(): \n",
    "            label += filename[i].casefold()\n",
    "        elif  filename[i] == '_':\n",
    "            label += ' '\n",
    "        elif filename[i] == '.':\n",
    "            break\n",
    "    return(label.strip())\n",
    "\n",
    "print(labelize(filename_list[39]))"
   ]
  },
  {
   "cell_type": "code",
   "execution_count": 16,
   "metadata": {},
   "outputs": [
    {
     "name": "stdout",
     "output_type": "stream",
     "text": [
      "{'Poodle_07927.jpg': ['poodle']}\n"
     ]
    }
   ],
   "source": [
    "labels = {}\n",
    "file_name = filename_list[1]\n",
    "label = labelize(file_name.split('.')[0])\n",
    "labels[file_name]=[label]\n",
    "print(labels)"
   ]
  },
  {
   "cell_type": "code",
   "execution_count": 81,
   "metadata": {},
   "outputs": [
    {
     "name": "stdout",
     "output_type": "stream",
     "text": [
      "{'cat_01.jpg': 'cat', 'Poodle_07927.jpg': 'poodle', 'cat_02.jpg': 'cat', 'Great_dane_05320.jpg': 'great dane', 'Dalmatian_04068.jpg': 'dalmatian', 'gecko_02.jpg': 'gecko', 'cat_07.jpg': 'cat', 'Great_pyrenees_05435.jpg': 'great pyrenees', 'German_shepherd_dog_04931.jpg': 'german shepherd dog', 'German_shepherd_dog_04890.jpg': 'german shepherd dog', 'Collie_03797.jpg': 'collie', 'Saint_bernard_08010.jpg': 'saint bernard', 'Dalmatian_04037.jpg': 'dalmatian', 'Rabbit_002.jpg': 'rabbit', 'polar_bear_04.jpg': 'polar bear', 'Poodle_07956.jpg': 'poodle', 'fox_squirrel_01.jpg': 'fox squirrel', 'Beagle_01170.jpg': 'beagle', 'Boston_terrier_02285.jpg': 'boston terrier', 'skunk_029.jpg': 'skunk', 'Boston_terrier_02303.jpg': 'boston terrier', 'Miniature_schnauzer_06884.jpg': 'miniature schnauzer', 'Beagle_01141.jpg': 'beagle', 'Basenji_00974.jpg': 'basenji', 'gecko_80.jpg': 'gecko', 'Dalmatian_04017.jpg': 'dalmatian', 'Boxer_02426.jpg': 'boxer', 'Basenji_00963.jpg': 'basenji', 'Boston_terrier_02259.jpg': 'boston terrier', 'Golden_retriever_05182.jpg': 'golden retriever', 'Golden_retriever_05223.jpg': 'golden retriever', 'great_horned_owl_02.jpg': 'great horned owl', 'Saint_bernard_08036.jpg': 'saint bernard', 'Golden_retriever_05195.jpg': 'golden retriever', 'Beagle_01125.jpg': 'beagle', 'Great_pyrenees_05367.jpg': 'great pyrenees', 'German_shorthaired_pointer_04986.jpg': 'german shorthaired pointer', 'Cocker_spaniel_03750.jpg': 'cocker spaniel', 'Golden_retriever_05257.jpg': 'golden retriever', 'Basset_hound_01034.jpg': 'basset hound'}\n"
     ]
    }
   ],
   "source": [
    "results_dic = {}\n",
    "for filename in filename_list:\n",
    "    results_dic[filename] = labelize(filename)\n",
    "print(results_dic)"
   ]
  },
  {
   "cell_type": "code",
   "execution_count": 12,
   "metadata": {},
   "outputs": [
    {
     "name": "stdout",
     "output_type": "stream",
     "text": [
      "{'asdf': 'qwer'}\n"
     ]
    }
   ],
   "source": [
    "results_dic = {}\n",
    "results_dic[\"asdf\"] = \"qwer\"\n",
    "print(results_dic)"
   ]
  },
  {
   "cell_type": "raw",
   "metadata": {},
   "source": []
  },
  {
   "cell_type": "code",
   "execution_count": 13,
   "metadata": {},
   "outputs": [
    {
     "name": "stdout",
     "output_type": "stream",
     "text": [
      "cat_01.jpg\n",
      "Poodle_07927.jpg\n",
      "cat_02.jpg\n",
      "Great_dane_05320.jpg\n",
      "Dalmatian_04068.jpg\n",
      "gecko_02.jpg\n",
      "cat_07.jpg\n",
      "Great_pyrenees_05435.jpg\n",
      "German_shepherd_dog_04931.jpg\n",
      "German_shepherd_dog_04890.jpg\n"
     ]
    }
   ],
   "source": [
    "for idx in range(10):\n",
    "    print(filename_list[idx])"
   ]
  },
  {
   "cell_type": "code",
   "execution_count": null,
   "metadata": {},
   "outputs": [],
   "source": [
    "for filename in filename_list:\n",
    "    results_dic[filename] = labelize(filename)"
   ]
  },
  {
   "cell_type": "code",
   "execution_count": 221,
   "metadata": {},
   "outputs": [],
   "source": [
    "import ast\n",
    "from PIL import Image\n",
    "import torchvision.transforms as transforms\n",
    "from torch.autograd import Variable\n",
    "import torchvision.models as models\n",
    "from torch import __version__\n",
    "\n",
    "resnet18 = models.resnet18(pretrained=True)\n",
    "alexnet = models.alexnet(pretrained=True)\n",
    "vgg16 = models.vgg16(pretrained=True)\n",
    "\n",
    "models = {'resnet': resnet18, 'alexnet': alexnet, 'vgg': vgg16}\n",
    "\n",
    "# obtain ImageNet labels\n",
    "with open('imagenet1000_clsid_to_human.txt') as imagenet_classes_file:\n",
    "    imagenet_classes_dict = ast.literal_eval(imagenet_classes_file.read())\n",
    "\n",
    "def classifier(img_path, model_name):\n",
    "    # load the image\n",
    "    img_pil = Image.open(img_path)\n",
    "\n",
    "    # define transforms\n",
    "    preprocess = transforms.Compose([\n",
    "        transforms.Resize(256),\n",
    "        transforms.CenterCrop(224),\n",
    "        transforms.ToTensor(),\n",
    "        transforms.Normalize(mean=[0.485, 0.456, 0.406], std=[0.229, 0.224, 0.225])\n",
    "    ])\n",
    "    \n",
    "    # preprocess the image\n",
    "    img_tensor = preprocess(img_pil)\n",
    "    \n",
    "    # resize the tensor (add dimension for batch)\n",
    "    img_tensor.unsqueeze_(0)\n",
    "    \n",
    "    # wrap input in variable, wrap input in variable - no longer needed for\n",
    "    # v 0.4 & higher code changed 04/26/2018 by Jennifer S. to handle PyTorch upgrade\n",
    "    pytorch_ver = __version__.split('.')\n",
    "    \n",
    "    # pytorch versions 0.4 & hihger - Variable depreciated so that it returns\n",
    "    # a tensor. So to address tensor as output (not wrapper) and to mimic the \n",
    "    # affect of setting volatile = True (because we are using pretrained models\n",
    "    # for inference) we can set requires_gradient to False. Here we just set \n",
    "    # requires_grad_ to False on our tensor \n",
    "    if int(pytorch_ver[0]) > 0 or int(pytorch_ver[1]) >= 4:\n",
    "        img_tensor.requires_grad_(False)\n",
    "    \n",
    "    # pytorch versions less than 0.4 - uses Variable because not-depreciated\n",
    "    else:\n",
    "        # apply model to input\n",
    "        # wrap input in variable\n",
    "        data = Variable(img_tensor, volatile = True) \n",
    "\n",
    "    # apply model to input\n",
    "    model = models[model_name]\n",
    "\n",
    "    # puts model in evaluation mode\n",
    "    # instead of (default)training mode\n",
    "    model = model.eval()\n",
    "    \n",
    "    # apply data to model - adjusted based upon version to account for \n",
    "    # operating on a Tensor for version 0.4 & higher.\n",
    "    if int(pytorch_ver[0]) > 0 or int(pytorch_ver[1]) >= 4:\n",
    "        output = model(img_tensor)\n",
    "\n",
    "    # pytorch versions less than 0.4\n",
    "    else:\n",
    "        # apply data to model\n",
    "        output = model(data)\n",
    "\n",
    "    # return index corresponding to predicted class\n",
    "    pred_idx = output.data.numpy().argmax()\n",
    "\n",
    "    return imagenet_classes_dict[pred_idx]\n",
    "\n"
   ]
  },
  {
   "cell_type": "code",
   "execution_count": 44,
   "metadata": {},
   "outputs": [
    {
     "data": {
      "text/plain": [
       "'German shepherd, German shepherd dog, German police dog, alsatian'"
      ]
     },
     "execution_count": 44,
     "metadata": {},
     "output_type": "execute_result"
    }
   ],
   "source": [
    "classifier(\"pet_images/German_shepherd_dog_04890.jpg\",\"resnet\")"
   ]
  },
  {
   "cell_type": "code",
   "execution_count": 41,
   "metadata": {},
   "outputs": [
    {
     "name": "stdout",
     "output_type": "stream",
     "text": [
      "Collecting torchvision\n",
      "  Downloading torchvision-0.7.0-cp38-cp38-macosx_10_9_x86_64.whl (387 kB)\n",
      "\u001b[K     |████████████████████████████████| 387 kB 273 kB/s eta 0:00:01\n",
      "\u001b[?25hRequirement already satisfied: pillow>=4.1.1 in /Applications/anaconda3/lib/python3.8/site-packages (from torchvision) (7.2.0)\n",
      "Requirement already satisfied: numpy in /Applications/anaconda3/lib/python3.8/site-packages (from torchvision) (1.18.5)\n",
      "Collecting torch==1.6.0\n",
      "  Downloading torch-1.6.0-cp38-none-macosx_10_9_x86_64.whl (97.5 MB)\n",
      "\u001b[K     |████████████████████████████████| 97.5 MB 10.9 MB/s eta 0:00:01     |█████████████▏                  | 40.0 MB 10.8 MB/s eta 0:00:06\n",
      "\u001b[?25hRequirement already satisfied: future in /Applications/anaconda3/lib/python3.8/site-packages (from torch==1.6.0->torchvision) (0.18.2)\n",
      "Installing collected packages: torch, torchvision\n",
      "Successfully installed torch-1.6.0 torchvision-0.7.0\n"
     ]
    }
   ],
   "source": [
    "!pip install torchvision"
   ]
  },
  {
   "cell_type": "code",
   "execution_count": 217,
   "metadata": {},
   "outputs": [],
   "source": [
    "def classify_images(images_dir, results_dic, model):\n",
    "    \"\"\"\n",
    "    Creates classifier labels with classifier function, compares pet labels to \n",
    "    the classifier labels, and adds the classifier label and the comparison of \n",
    "    the labels to the results dictionary using the extend function. Be sure to\n",
    "    format the classifier labels so that they will match your pet image labels.\n",
    "    The format will include putting the classifier labels in all lower case \n",
    "    letters and strip the leading and trailing whitespace characters from them.\n",
    "    For example, the Classifier function returns = 'Maltese dog, Maltese terrier, Maltese' \n",
    "    so the classifier label = 'maltese dog, maltese terrier, maltese'.\n",
    "    Recall that dog names from the classifier function can be a string of dog \n",
    "    names separated by commas when a particular breed of dog has multiple dog \n",
    "    names associated with that breed. For example, you will find pet images of\n",
    "    a 'dalmatian'(pet label) and it will match to the classifier label \n",
    "    'dalmatian, coach dog, carriage dog' if the classifier function correctly \n",
    "    classified the pet images of dalmatians.\n",
    "     PLEASE NOTE: This function uses the classifier() function defined in \n",
    "     classifier.py within this function. The proper use of this function is\n",
    "     in test_classifier.py Please refer to this program prior to using the \n",
    "     classifier() function to classify images within this function \n",
    "     Parameters: \n",
    "      images_dir - The (full) path to the folder of images that are to be\n",
    "                   classified by the classifier function (string)\n",
    "      results_dic - Results Dictionary with 'key' as image filename and 'value'\n",
    "                    as a List. Where the list will contain the following items: \n",
    "                  index 0 = pet image label (string)\n",
    "                --- where index 1 & index 2 are added by this function ---\n",
    "                  NEW - index 1 = classifier label (string)\n",
    "                  NEW - index 2 = 1/0 (int)  where 1 = match between pet image\n",
    "                    and classifer labels and 0 = no match between labels\n",
    "      model - Indicates which CNN model architecture will be used by the \n",
    "              classifier function to classify the pet images,\n",
    "              values must be either: resnet alexnet vgg (string)\n",
    "     Returns:\n",
    "           None - results_dic is mutable data type so no return needed.         \n",
    "    \"\"\"\n",
    "    acertos = 0\n",
    "    for key in results_dic:\n",
    "        result = classifier(images_dir+key,model).casefold()\n",
    "        if result.find(results_dic[key]) >= 0:\n",
    "            match = 1\n",
    "            acertos += 1\n",
    "        else: match = 0\n",
    "        results_dic[key] = [results_dic[key], result.casefold(), match]\n",
    "    print(\"########### numero de acertos >>> {}\".format(acertos))\n",
    "    None "
   ]
  },
  {
   "cell_type": "code",
   "execution_count": 238,
   "metadata": {},
   "outputs": [
    {
     "name": "stdout",
     "output_type": "stream",
     "text": [
      "########### numero de acertos >>> 35\n"
     ]
    }
   ],
   "source": [
    "images_dir = \"pet_images/\"\n",
    "model = \"vgg\"\n",
    "results_dic = {}\n",
    "for filename in filename_list:\n",
    "    results_dic[filename] = labelize(filename)\n",
    "\n",
    "acertos = 0\n",
    "for key in results_dic:\n",
    "    result = classifier(images_dir+key,model).casefold()\n",
    "    if result.find(results_dic[key]) >= 0:\n",
    "        match = 1\n",
    "        acertos += 1\n",
    "    else: match = 0\n",
    "    results_dic[key] = [results_dic[key], result.casefold(), match]\n",
    "print(\"########### numero de acertos >>> {}\".format(acertos))\n"
   ]
  },
  {
   "cell_type": "code",
   "execution_count": null,
   "metadata": {},
   "outputs": [],
   "source": []
  },
  {
   "cell_type": "code",
   "execution_count": 234,
   "metadata": {},
   "outputs": [
    {
     "name": "stdout",
     "output_type": "stream",
     "text": [
      "cat_01.jpg - ['cat', 'lynx', 0]\n",
      "Poodle_07927.jpg - ['poodle', 'standard poodle, poodle', 1]\n",
      "cat_02.jpg - ['cat', 'tabby, tabby cat, cat', 1]\n",
      "Great_dane_05320.jpg - ['great dane', 'great dane', 1]\n",
      "Dalmatian_04068.jpg - ['dalmatian', 'dalmatian, coach dog, carriage dog', 1]\n",
      "gecko_02.jpg - ['gecko', 'banded gecko, gecko', 1]\n",
      "cat_07.jpg - ['cat', 'egyptian cat, cat', 1]\n",
      "Great_pyrenees_05435.jpg - ['great pyrenees', 'great pyrenees', 1]\n",
      "German_shepherd_dog_04931.jpg - ['german shepherd dog', 'german shepherd, german shepherd dog, german police dog, alsatian', 1]\n",
      "German_shepherd_dog_04890.jpg - ['german shepherd dog', 'german shepherd, german shepherd dog, german police dog, alsatian', 1]\n",
      "Collie_03797.jpg - ['collie', 'collie', 1]\n",
      "Saint_bernard_08010.jpg - ['saint bernard', 'saint bernard, st bernard', 1]\n",
      "Dalmatian_04037.jpg - ['dalmatian', 'dalmatian, coach dog, carriage dog', 1]\n",
      "Rabbit_002.jpg - ['rabbit', 'wood rabbit, cottontail, cottontail rabbit, rabbit', 1]\n",
      "polar_bear_04.jpg - ['polar bear', 'ice bear, polar bear, ursus maritimus, thalarctos maritimus', 1]\n",
      "Poodle_07956.jpg - ['poodle', 'standard poodle, poodle', 1]\n",
      "fox_squirrel_01.jpg - ['fox squirrel', 'fox squirrel, eastern fox squirrel, sciurus niger', 1]\n",
      "Beagle_01170.jpg - ['beagle', 'walker hound, walker foxhound', 0]\n",
      "Boston_terrier_02285.jpg - ['boston terrier', 'boston bull, boston terrier', 1]\n",
      "skunk_029.jpg - ['skunk', 'skunk, polecat, wood pussy', 1]\n",
      "Boston_terrier_02303.jpg - ['boston terrier', 'boston bull, boston terrier', 1]\n",
      "Miniature_schnauzer_06884.jpg - ['miniature schnauzer', 'miniature schnauzer', 1]\n",
      "Beagle_01141.jpg - ['beagle', 'beagle', 1]\n",
      "Basenji_00974.jpg - ['basenji', 'basenji', 1]\n",
      "gecko_80.jpg - ['gecko', 'tailed frog, bell toad, ribbed toad, tailed toad, ascaphus trui', 0]\n",
      "Dalmatian_04017.jpg - ['dalmatian', 'dalmatian, coach dog, carriage dog', 1]\n",
      "Boxer_02426.jpg - ['boxer', 'boxer', 1]\n",
      "Basenji_00963.jpg - ['basenji', 'basenji', 1]\n",
      "Boston_terrier_02259.jpg - ['boston terrier', 'boston bull, boston terrier', 1]\n",
      "Golden_retriever_05182.jpg - ['golden retriever', 'golden retriever', 1]\n",
      "Golden_retriever_05223.jpg - ['golden retriever', 'golden retriever', 1]\n",
      "great_horned_owl_02.jpg - ['great horned owl', 'ruffed grouse, partridge, bonasa umbellus', 0]\n",
      "Saint_bernard_08036.jpg - ['saint bernard', 'saint bernard, st bernard', 1]\n",
      "Golden_retriever_05195.jpg - ['golden retriever', 'golden retriever', 1]\n",
      "Beagle_01125.jpg - ['beagle', 'beagle', 1]\n",
      "Great_pyrenees_05367.jpg - ['great pyrenees', 'kuvasz', 0]\n",
      "German_shorthaired_pointer_04986.jpg - ['german shorthaired pointer', 'german shorthaired pointer', 1]\n",
      "Cocker_spaniel_03750.jpg - ['cocker spaniel', 'cocker spaniel, english cocker spaniel, cocker', 1]\n",
      "Golden_retriever_05257.jpg - ['golden retriever', 'golden retriever', 1]\n",
      "Basset_hound_01034.jpg - ['basset hound', 'basset, basset hound', 1]\n"
     ]
    }
   ],
   "source": [
    "for key in results_dic:\n",
    "    print(key + \" - \" + str(results_dic[key]))"
   ]
  },
  {
   "cell_type": "code",
   "execution_count": 235,
   "metadata": {},
   "outputs": [
    {
     "name": "stdout",
     "output_type": "stream",
     "text": [
      "Poodle_07927.jpg\n",
      "cat_02.jpg\n",
      "Great_dane_05320.jpg\n",
      "Dalmatian_04068.jpg\n",
      "gecko_02.jpg\n",
      "cat_07.jpg\n",
      "Great_pyrenees_05435.jpg\n",
      "German_shepherd_dog_04931.jpg\n",
      "German_shepherd_dog_04890.jpg\n",
      "Collie_03797.jpg\n",
      "Saint_bernard_08010.jpg\n",
      "Dalmatian_04037.jpg\n",
      "Rabbit_002.jpg\n",
      "polar_bear_04.jpg\n",
      "Poodle_07956.jpg\n",
      "fox_squirrel_01.jpg\n",
      "Boston_terrier_02285.jpg\n",
      "skunk_029.jpg\n",
      "Boston_terrier_02303.jpg\n",
      "Miniature_schnauzer_06884.jpg\n",
      "Beagle_01141.jpg\n",
      "Basenji_00974.jpg\n",
      "Dalmatian_04017.jpg\n",
      "Boxer_02426.jpg\n",
      "Basenji_00963.jpg\n",
      "Boston_terrier_02259.jpg\n",
      "Golden_retriever_05182.jpg\n",
      "Golden_retriever_05223.jpg\n",
      "Saint_bernard_08036.jpg\n",
      "Golden_retriever_05195.jpg\n",
      "Beagle_01125.jpg\n",
      "German_shorthaired_pointer_04986.jpg\n",
      "Cocker_spaniel_03750.jpg\n",
      "Golden_retriever_05257.jpg\n",
      "Basset_hound_01034.jpg\n",
      "35\n"
     ]
    }
   ],
   "source": [
    "acertos = 0\n",
    "for key in results_dic:\n",
    "    acertos = acertos + results_dic[key][2]\n",
    "    if results_dic[key][2] == 1: print(key)\n",
    "print(acertos)\n"
   ]
  },
  {
   "cell_type": "code",
   "execution_count": 123,
   "metadata": {},
   "outputs": [
    {
     "data": {
      "text/plain": [
       "['cat', 'norwegian elkhound, elkhound', 0]"
      ]
     },
     "execution_count": 123,
     "metadata": {},
     "output_type": "execute_result"
    }
   ],
   "source": [
    "results_dic['cat_01.jpg']"
   ]
  },
  {
   "cell_type": "code",
   "execution_count": 227,
   "metadata": {},
   "outputs": [
    {
     "name": "stdout",
     "output_type": "stream",
     "text": [
      "cat_01.jpg - lynx\n",
      "Beagle_01170.jpg - walker hound, walker foxhound\n",
      "gecko_80.jpg - tailed frog, bell toad, ribbed toad, tailed toad, ascaphus trui\n",
      "great_horned_owl_02.jpg - ruffed grouse, partridge, bonasa umbellus\n",
      "Great_pyrenees_05367.jpg - kuvasz\n"
     ]
    }
   ],
   "source": [
    "for key in results_dic:\n",
    "    acertos = acertos + results_dic[key][2]\n",
    "    if results_dic[key][2] != 1: print(key + \" - \" + results_dic[key][1])\n"
   ]
  },
  {
   "cell_type": "code",
   "execution_count": null,
   "metadata": {},
   "outputs": [],
   "source": []
  },
  {
   "cell_type": "code",
   "execution_count": 75,
   "metadata": {},
   "outputs": [
    {
     "name": "stdout",
     "output_type": "stream",
     "text": [
      "Falso\n"
     ]
    }
   ],
   "source": [
    "list = [\"asDf, qwEr, asdf\"]\n",
    "asdf = \"asdf\"\n",
    "if asdf in list: print(\"Verdadeiro\")\n",
    "else: print(\"Falso\")"
   ]
  },
  {
   "cell_type": "code",
   "execution_count": null,
   "metadata": {},
   "outputs": [],
   "source": []
  },
  {
   "cell_type": "code",
   "execution_count": 239,
   "metadata": {},
   "outputs": [
    {
     "ename": "NameError",
     "evalue": "name 'lts_dic' is not defined",
     "output_type": "error",
     "traceback": [
      "\u001b[0;31m---------------------------------------------------------------------------\u001b[0m",
      "\u001b[0;31mNameError\u001b[0m                                 Traceback (most recent call last)",
      "\u001b[0;32m<ipython-input-239-696005044d73>\u001b[0m in \u001b[0;36m<module>\u001b[0;34m\u001b[0m\n\u001b[1;32m     18\u001b[0m \u001b[0;32mfor\u001b[0m \u001b[0mkey\u001b[0m \u001b[0;32min\u001b[0m \u001b[0mresults_dic\u001b[0m\u001b[0;34m:\u001b[0m\u001b[0;34m\u001b[0m\u001b[0;34m\u001b[0m\u001b[0m\n\u001b[1;32m     19\u001b[0m     \u001b[0;32mif\u001b[0m \u001b[0mresults_dic\u001b[0m\u001b[0;34m[\u001b[0m\u001b[0mkey\u001b[0m\u001b[0;34m]\u001b[0m\u001b[0;34m[\u001b[0m\u001b[0;36m3\u001b[0m\u001b[0;34m]\u001b[0m \u001b[0;34m+\u001b[0m \u001b[0mresults_dic\u001b[0m\u001b[0;34m[\u001b[0m\u001b[0mkey\u001b[0m\u001b[0;34m]\u001b[0m\u001b[0;34m[\u001b[0m\u001b[0;36m4\u001b[0m\u001b[0;34m]\u001b[0m \u001b[0;34m==\u001b[0m \u001b[0;36m0\u001b[0m\u001b[0;34m:\u001b[0m\u001b[0;34m\u001b[0m\u001b[0;34m\u001b[0m\u001b[0m\n\u001b[0;32m---> 20\u001b[0;31m         \u001b[0mprint\u001b[0m\u001b[0;34m(\u001b[0m\u001b[0mkey\u001b[0m \u001b[0;34m+\u001b[0m \u001b[0;34m\" - \"\u001b[0m \u001b[0;34m+\u001b[0m \u001b[0mstr\u001b[0m\u001b[0;34m(\u001b[0m\u001b[0mlts_dic\u001b[0m\u001b[0;34m[\u001b[0m\u001b[0mkey\u001b[0m\u001b[0;34m]\u001b[0m\u001b[0;34m)\u001b[0m\u001b[0;34m)\u001b[0m\u001b[0;34m\u001b[0m\u001b[0;34m\u001b[0m\u001b[0m\n\u001b[0m",
      "\u001b[0;31mNameError\u001b[0m: name 'lts_dic' is not defined"
     ]
    }
   ],
   "source": [
    "dognames = {}\n",
    "with open('dognames.txt', 'r') as f:\n",
    "    for line in f:\n",
    "        dognames[line[:-1]]=1\n",
    "\n",
    "for key in results_dic:\n",
    "    if results_dic[key][0] in dognames: \n",
    "        results_dic[key].append(1)\n",
    "    else:\n",
    "        results_dic[key].append(0)\n",
    "\n",
    "    if results_dic[key][1] in dognames: \n",
    "        results_dic[key].append(1)\n",
    "    else:\n",
    "        results_dic[key].append(0)\n",
    "\n",
    "\n"
   ]
  },
  {
   "cell_type": "code",
   "execution_count": 240,
   "metadata": {},
   "outputs": [
    {
     "name": "stdout",
     "output_type": "stream",
     "text": [
      "cat_01.jpg - ['cat', 'lynx', 0, 0, 0]\n",
      "cat_02.jpg - ['cat', 'tabby, tabby cat, cat', 1, 0, 0]\n",
      "gecko_02.jpg - ['gecko', 'banded gecko, gecko', 1, 0, 0]\n",
      "cat_07.jpg - ['cat', 'egyptian cat, cat', 1, 0, 0]\n",
      "Rabbit_002.jpg - ['rabbit', 'wood rabbit, cottontail, cottontail rabbit, rabbit', 1, 0, 0]\n",
      "polar_bear_04.jpg - ['polar bear', 'ice bear, polar bear, ursus maritimus, thalarctos maritimus', 1, 0, 0]\n",
      "fox_squirrel_01.jpg - ['fox squirrel', 'fox squirrel, eastern fox squirrel, sciurus niger', 1, 0, 0]\n",
      "skunk_029.jpg - ['skunk', 'skunk, polecat, wood pussy', 1, 0, 0]\n",
      "gecko_80.jpg - ['gecko', 'tailed frog, bell toad, ribbed toad, tailed toad, ascaphus trui', 0, 0, 0]\n",
      "great_horned_owl_02.jpg - ['great horned owl', 'ruffed grouse, partridge, bonasa umbellus', 0, 0, 0]\n"
     ]
    }
   ],
   "source": [
    "for key in results_dic:\n",
    "    if results_dic[key][3] + results_dic[key][4] == 0:\n",
    "        print(key + \" - \" + str(results_dic[key]))"
   ]
  },
  {
   "cell_type": "code",
   "execution_count": 156,
   "metadata": {},
   "outputs": [
    {
     "data": {
      "text/plain": [
       "['dalmatian', 'dalmatian, coach dog, carriage dog', 1]"
      ]
     },
     "execution_count": 156,
     "metadata": {},
     "output_type": "execute_result"
    }
   ],
   "source": [
    "results_dic['Dalmatian_04068.jpg']"
   ]
  },
  {
   "cell_type": "code",
   "execution_count": 157,
   "metadata": {},
   "outputs": [],
   "source": [
    "lista_tst = ['dalmatian', 'dalmatian, coach dog, carriage dog', 1]"
   ]
  },
  {
   "cell_type": "code",
   "execution_count": 158,
   "metadata": {},
   "outputs": [
    {
     "data": {
      "text/plain": [
       "1"
      ]
     },
     "execution_count": 158,
     "metadata": {},
     "output_type": "execute_result"
    }
   ],
   "source": [
    "lista_tst[2]"
   ]
  },
  {
   "cell_type": "code",
   "execution_count": 159,
   "metadata": {},
   "outputs": [
    {
     "data": {
      "text/plain": [
       "['dalmatian', 'dalmatian, coach dog, carriage dog', 1, 1]"
      ]
     },
     "execution_count": 159,
     "metadata": {},
     "output_type": "execute_result"
    }
   ],
   "source": [
    "lista_tst.append(1)\n",
    "lista_tst"
   ]
  },
  {
   "cell_type": "code",
   "execution_count": 163,
   "metadata": {},
   "outputs": [
    {
     "data": {
      "text/plain": [
       "'dalmatian, coach dog, carriage dog'"
      ]
     },
     "execution_count": 163,
     "metadata": {},
     "output_type": "execute_result"
    }
   ],
   "source": [
    "results_dic['Dalmatian_04068.jpg'][1] in dognames"
   ]
  },
  {
   "cell_type": "code",
   "execution_count": 165,
   "metadata": {},
   "outputs": [
    {
     "name": "stdout",
     "output_type": "stream",
     "text": [
      "dalmatian, coach dog, carriage dog\n"
     ]
    }
   ],
   "source": [
    "for key in dognames:\n",
    "    if results_dic['Dalmatian_04068.jpg'][1] == key:\n",
    "        print(key)"
   ]
  },
  {
   "cell_type": "code",
   "execution_count": 244,
   "metadata": {},
   "outputs": [
    {
     "name": "stdout",
     "output_type": "stream",
     "text": [
      "1\n"
     ]
    }
   ],
   "source": [
    "print(dognames[\"chihuahua\"])"
   ]
  },
  {
   "cell_type": "code",
   "execution_count": 247,
   "metadata": {},
   "outputs": [],
   "source": [
    "\n",
    "result_statistics_dic = {}\n",
    "result_statistics_dic[\"n_images\"] = len(results_dic)\n",
    "\n",
    "result_statistics_dic[\"n_dogs_img\"] = 0\n",
    "result_statistics_dic[\"n_notdogs_img\"] = 0\n",
    "result_statistics_dic[\"n_match\"] = 0\n",
    "result_statistics_dic[\"n_correct_dogs\"] = 0\n",
    "result_statistics_dic[\"n_correct_notdogs\"] = 0\n",
    "result_statistics_dic[\"n_correct_breed\"] = 0\n",
    "\n",
    "\n",
    "for key in results_dic:\n",
    "    result_statistics_dic[\"n_dogs_img\"] += results_dic[key][3]\n",
    "    result_statistics_dic[\"n_notdogs_img\"] += 1-results_dic[key][3]\n",
    "    result_statistics_dic[\"n_match\"] += results_dic[key][2] # number of correct label matches\n",
    "    if results_dic[key][3] ==1 and results_dic[key][4]==1:\n",
    "        result_statistics_dic[\"n_correct_dogs\"] += 1\n",
    "    if results_dic[key][3] ==0 and results_dic[key][4]==0:\n",
    "        result_statistics_dic[\"n_correct_notdogs\"] += 1\n",
    "    if results_dic[key][3] ==1 and results_dic[key][2] ==1: \n",
    "        result_statistics_dic[\"n_correct_breed\"] += 1 #number of correct label matches given \"dog\"\n",
    "\n",
    "result_statistics_dic[\"pct_match\"] = result_statistics_dic[\"n_match\"] /len(results_dic)\n",
    "result_statistics_dic[\"pct_correct_dogs\"] = (result_statistics_dic[\"n_correct_dogs\"] \n",
    "                                             + result_statistics_dic[\"n_correct_notdogs\"])/ len(results_dic)\n",
    "result_statistics_dic[\"pct_correct_breed\"] = result_statistics_dic[\"n_correct_breed\"]/result_statistics_dic[\"n_dogs_img\"]\n",
    "result_statistics_dic[\"pct_correct_notdogs\"] = result_statistics_dic[\"n_correct_notdogs\"]/result_statistics_dic[\"n_notdogs_img\"]\n",
    "\n",
    "\n",
    "\n",
    "\n",
    "\n",
    "\n",
    "#            n_images - number of images\n",
    "#            n_dogs_img - number of dog images\n",
    "#            n_notdogs_img - number of NON-dog images\n",
    "#            n_match - number of matches between pet & classifier labels\n",
    "#            n_correct_dogs - number of correctly classified dog images\n",
    "#            n_correct_notdogs - number of correctly classified NON-dog images\n",
    "#            n_correct_breed - number of correctly classified dog breeds\n",
    "#            pct_match - percentage of correct matches\n",
    "#            pct_correct_dogs - percentage of correctly classified dogs\n",
    "#            pct_correct_breed - percentage of correctly classified dog breeds\n",
    "#            pct_correct_notdogs - percentage of correctly classified NON-dogs\n"
   ]
  },
  {
   "cell_type": "code",
   "execution_count": 248,
   "metadata": {},
   "outputs": [
    {
     "name": "stdout",
     "output_type": "stream",
     "text": [
      "n_images - 40\n",
      "n_dogs_img - 30\n",
      "n_notdogs_img - 10\n",
      "n_match - 35\n",
      "n_correct_dogs - 30\n",
      "n_correct_notdogs - 10\n",
      "n_correct_breed - 28\n",
      "pct_match - 0.875\n",
      "pct_correct_dogs - 1.0\n",
      "pct_correct_breed - 0.9333333333333333\n",
      "pct_correct_notdogs - 1.0\n"
     ]
    }
   ],
   "source": [
    "for key in result_statistics_dic:\n",
    "    print(key + \" - \" + str(result_statistics_dic[key]))"
   ]
  },
  {
   "cell_type": "code",
   "execution_count": 249,
   "metadata": {},
   "outputs": [
    {
     "name": "stdout",
     "output_type": "stream",
     "text": [
      "\n",
      " Summary classification statistics: \n",
      "      \n",
      "    Number of images:             40      \n",
      "    Number of dog images:         30      \n",
      "    Number of non dog images:     10\n",
      "\n",
      "    Number of dogs misclassified: 0\n",
      "    Number of dogs misclassified: 0\n",
      "\n",
      "    % correct dog images:      1.0      \n",
      "    % correct dog breeds:      0.9333333333333333      \n",
      "    % correct non dog images:  1.0      \n",
      "    % correct classifications: 0.875\n"
     ]
    }
   ],
   "source": [
    "    print_incorrect_dogs = True\n",
    "    print_incorrect_breed = True\n",
    "\n",
    "    print(\"\\n Summary classification statistics: \\n\\\n",
    "          \\n    Number of images:             {}\\\n",
    "          \\n    Number of dog images:         {}\\\n",
    "          \\n    Number of non dog images:     {}\"\\\n",
    "          .format(result_statistics_dic[\"n_images\"], \n",
    "                  result_statistics_dic[\"n_dogs_img\"],\n",
    "                  result_statistics_dic[\"n_notdogs_img\"]))\n",
    "    if print_incorrect_dogs:\n",
    "        n_incorrect_dogs = (result_statistics_dic[\"n_dogs_img\"] \n",
    "                            - result_statistics_dic[\"n_correct_dogs\"])\n",
    "        print(\"\\n    Number of dogs misclassified: {}\".format(n_incorrect_dogs))\n",
    "    if print_incorrect_breed == True:\n",
    "        n_incorrect_dog_breeds = (result_statistics_dic[\"n_dogs_img\"] \n",
    "                                  - result_statistics_dic[\"n_correct_breed\"])\n",
    "        print(\"    Number of dogs misclassified: {}\".format(n_incorrect_dogs))\n",
    "    print(\"\\n    % correct dog images:      {}\\\n",
    "          \\n    % correct dog breeds:      {}\\\n",
    "          \\n    % correct non dog images:  {}\\\n",
    "          \\n    % correct classifications: {}\"\\\n",
    "          .format(result_statistics_dic[\"pct_correct_dogs\"],\n",
    "                  result_statistics_dic[\"pct_correct_breed\"],\n",
    "                  result_statistics_dic[\"pct_correct_notdogs\"],\n",
    "                  result_statistics_dic[\"pct_match\"]                  \n",
    "                 )\n",
    "         )"
   ]
  },
  {
   "cell_type": "code",
   "execution_count": null,
   "metadata": {},
   "outputs": [],
   "source": []
  },
  {
   "cell_type": "code",
   "execution_count": null,
   "metadata": {},
   "outputs": [],
   "source": []
  }
 ],
 "metadata": {
  "kernelspec": {
   "display_name": "Python 3",
   "language": "python",
   "name": "python3"
  },
  "language_info": {
   "codemirror_mode": {
    "name": "ipython",
    "version": 3
   },
   "file_extension": ".py",
   "mimetype": "text/x-python",
   "name": "python",
   "nbconvert_exporter": "python",
   "pygments_lexer": "ipython3",
   "version": "3.8.3"
  }
 },
 "nbformat": 4,
 "nbformat_minor": 4
}
