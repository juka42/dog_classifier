{
 "cells": [
  {
   "cell_type": "code",
   "execution_count": 1,
   "metadata": {},
   "outputs": [
    {
     "data": {
      "text/plain": [
       "'/Users/juka42/Desktop/Udacity/python_AI/project01/workspace'"
      ]
     },
     "execution_count": 1,
     "metadata": {},
     "output_type": "execute_result"
    }
   ],
   "source": [
    "pwd\n"
   ]
  },
  {
   "cell_type": "code",
   "execution_count": 1,
   "metadata": {},
   "outputs": [
    {
     "name": "stdout",
     "output_type": "stream",
     "text": [
      "\n",
      "Prints 10 filenames from folder pet_images/\n",
      " 1 file:                cat_01.jpg\n",
      " 2 file:          Poodle_07927.jpg\n",
      " 3 file:                cat_02.jpg\n",
      " 4 file:      Great_dane_05320.jpg\n",
      " 5 file:       Dalmatian_04068.jpg\n",
      " 6 file:              gecko_02.jpg\n",
      " 7 file:                cat_07.jpg\n",
      " 8 file:  Great_pyrenees_05435.jpg\n",
      " 9 file: German_shepherd_dog_04931.jpg\n",
      "10 file: German_shepherd_dog_04890.jpg\n",
      "11 file:          Collie_03797.jpg\n",
      "12 file:   Saint_bernard_08010.jpg\n",
      "13 file:       Dalmatian_04037.jpg\n",
      "14 file:            Rabbit_002.jpg\n",
      "15 file:         polar_bear_04.jpg\n",
      "16 file:          Poodle_07956.jpg\n",
      "17 file:       fox_squirrel_01.jpg\n",
      "18 file:          Beagle_01170.jpg\n",
      "19 file:  Boston_terrier_02285.jpg\n",
      "20 file:             skunk_029.jpg\n",
      "21 file:  Boston_terrier_02303.jpg\n",
      "22 file: Miniature_schnauzer_06884.jpg\n",
      "23 file:          Beagle_01141.jpg\n",
      "24 file:         Basenji_00974.jpg\n",
      "25 file:              gecko_80.jpg\n",
      "26 file:       Dalmatian_04017.jpg\n",
      "27 file:           Boxer_02426.jpg\n",
      "28 file:         Basenji_00963.jpg\n",
      "29 file:  Boston_terrier_02259.jpg\n",
      "30 file: Golden_retriever_05182.jpg\n",
      "31 file: Golden_retriever_05223.jpg\n",
      "32 file:   great_horned_owl_02.jpg\n",
      "33 file:   Saint_bernard_08036.jpg\n",
      "34 file: Golden_retriever_05195.jpg\n",
      "35 file:          Beagle_01125.jpg\n",
      "36 file:  Great_pyrenees_05367.jpg\n",
      "37 file: German_shorthaired_pointer_04986.jpg\n",
      "38 file:  Cocker_spaniel_03750.jpg\n",
      "39 file: Golden_retriever_05257.jpg\n",
      "40 file:    Basset_hound_01034.jpg\n"
     ]
    }
   ],
   "source": [
    "# Imports only listdir function from OS module \n",
    "from os import listdir  \n",
    "\n",
    "# Retrieve the filenames from folder pet_images/\n",
    "filename_list = listdir(\"pet_images/\")\n",
    "\n",
    "# Print 10 of the filenames from folder pet_images/\n",
    "print(\"\\nPrints 10 filenames from folder pet_images/\")\n",
    "for idx in range(0, len(filename_list), 1):\n",
    "    print(\"{:2d} file: {:>25}\".format(idx + 1, filename_list[idx]) )"
   ]
  },
  {
   "cell_type": "code",
   "execution_count": 2,
   "metadata": {},
   "outputs": [
    {
     "name": "stdout",
     "output_type": "stream",
     "text": [
      "Poodle_07927\n"
     ]
    }
   ],
   "source": [
    "name = filename_list[1].split('.')[0]\n",
    "print(name)"
   ]
  },
  {
   "cell_type": "code",
   "execution_count": 3,
   "metadata": {},
   "outputs": [
    {
     "data": {
      "text/plain": [
       "list"
      ]
     },
     "execution_count": 3,
     "metadata": {},
     "output_type": "execute_result"
    }
   ],
   "source": [
    "type(filename_list)"
   ]
  },
  {
   "cell_type": "code",
   "execution_count": 31,
   "metadata": {},
   "outputs": [
    {
     "name": "stdout",
     "output_type": "stream",
     "text": [
      "basset hound\n",
      "   asdf   !\n",
      "asdf!\n"
     ]
    }
   ],
   "source": [
    "def labelize(filename):\n",
    "    label=''\n",
    "    for i in range(len(filename)):\n",
    "        if filename[i].isalpha(): \n",
    "            label += filename[i].casefold()\n",
    "        elif  filename[i] == '_':\n",
    "            label += ' '\n",
    "        elif filename[i] == '.':\n",
    "            break\n",
    "    return(label.strip())\n",
    "\n",
    "print(labelize(filename_list[39]))"
   ]
  },
  {
   "cell_type": "code",
   "execution_count": 16,
   "metadata": {},
   "outputs": [
    {
     "name": "stdout",
     "output_type": "stream",
     "text": [
      "{'Poodle_07927.jpg': ['poodle']}\n"
     ]
    }
   ],
   "source": [
    "labels = {}\n",
    "file_name = filename_list[1]\n",
    "label = labelize(file_name.split('.')[0])\n",
    "labels[file_name]=[label]\n",
    "print(labels)"
   ]
  },
  {
   "cell_type": "code",
   "execution_count": 33,
   "metadata": {},
   "outputs": [
    {
     "name": "stdout",
     "output_type": "stream",
     "text": [
      "{'cat_01.jpg': 'cat', 'Poodle_07927.jpg': 'poodle', 'cat_02.jpg': 'cat', 'Great_dane_05320.jpg': 'great dane', 'Dalmatian_04068.jpg': 'dalmatian', 'gecko_02.jpg': 'gecko', 'cat_07.jpg': 'cat', 'Great_pyrenees_05435.jpg': 'great pyrenees', 'German_shepherd_dog_04931.jpg': 'german shepherd dog', 'German_shepherd_dog_04890.jpg': 'german shepherd dog', 'Collie_03797.jpg': 'collie', 'Saint_bernard_08010.jpg': 'saint bernard', 'Dalmatian_04037.jpg': 'dalmatian', 'Rabbit_002.jpg': 'rabbit', 'polar_bear_04.jpg': 'polar bear', 'Poodle_07956.jpg': 'poodle', 'fox_squirrel_01.jpg': 'fox squirrel', 'Beagle_01170.jpg': 'beagle', 'Boston_terrier_02285.jpg': 'boston terrier', 'skunk_029.jpg': 'skunk', 'Boston_terrier_02303.jpg': 'boston terrier', 'Miniature_schnauzer_06884.jpg': 'miniature schnauzer', 'Beagle_01141.jpg': 'beagle', 'Basenji_00974.jpg': 'basenji', 'gecko_80.jpg': 'gecko', 'Dalmatian_04017.jpg': 'dalmatian', 'Boxer_02426.jpg': 'boxer', 'Basenji_00963.jpg': 'basenji', 'Boston_terrier_02259.jpg': 'boston terrier', 'Golden_retriever_05182.jpg': 'golden retriever', 'Golden_retriever_05223.jpg': 'golden retriever', 'great_horned_owl_02.jpg': 'great horned owl', 'Saint_bernard_08036.jpg': 'saint bernard', 'Golden_retriever_05195.jpg': 'golden retriever', 'Beagle_01125.jpg': 'beagle', 'Great_pyrenees_05367.jpg': 'great pyrenees', 'German_shorthaired_pointer_04986.jpg': 'german shorthaired pointer', 'Cocker_spaniel_03750.jpg': 'cocker spaniel', 'Golden_retriever_05257.jpg': 'golden retriever', 'Basset_hound_01034.jpg': 'basset hound'}\n"
     ]
    }
   ],
   "source": [
    "results_dic = {}\n",
    "for filename in filename_list:\n",
    "    results_dic[filename] = labelize(filename)\n",
    "print(results_dic)"
   ]
  },
  {
   "cell_type": "code",
   "execution_count": 12,
   "metadata": {},
   "outputs": [
    {
     "name": "stdout",
     "output_type": "stream",
     "text": [
      "{'asdf': 'qwer'}\n"
     ]
    }
   ],
   "source": [
    "results_dic = {}\n",
    "results_dic[\"asdf\"] = \"qwer\"\n",
    "print(results_dic)"
   ]
  },
  {
   "cell_type": "code",
   "execution_count": null,
   "metadata": {},
   "outputs": [],
   "source": []
  },
  {
   "cell_type": "code",
   "execution_count": 13,
   "metadata": {},
   "outputs": [
    {
     "name": "stdout",
     "output_type": "stream",
     "text": [
      "cat_01.jpg\n",
      "Poodle_07927.jpg\n",
      "cat_02.jpg\n",
      "Great_dane_05320.jpg\n",
      "Dalmatian_04068.jpg\n",
      "gecko_02.jpg\n",
      "cat_07.jpg\n",
      "Great_pyrenees_05435.jpg\n",
      "German_shepherd_dog_04931.jpg\n",
      "German_shepherd_dog_04890.jpg\n"
     ]
    }
   ],
   "source": [
    "for idx in range(10):\n",
    "    print(filename_list[idx])"
   ]
  },
  {
   "cell_type": "code",
   "execution_count": null,
   "metadata": {},
   "outputs": [],
   "source": [
    "for filename in filename_list:\n",
    "    results_dic[filename] = labelize(filename)"
   ]
  },
  {
   "cell_type": "code",
   "execution_count": null,
   "metadata": {},
   "outputs": [],
   "source": [
    "import ast\n",
    "from PIL import Image\n",
    "import torchvision.transforms as transforms\n",
    "from torch.autograd import Variable\n",
    "import torchvision.models as models\n",
    "from torch import __version__\n",
    "\n",
    "resnet18 = models.resnet18(pretrained=True)\n",
    "alexnet = models.alexnet(pretrained=True)\n",
    "vgg16 = models.vgg16(pretrained=True)\n",
    "\n",
    "models = {'resnet': resnet18, 'alexnet': alexnet, 'vgg': vgg16}\n",
    "\n",
    "# obtain ImageNet labels\n",
    "with open('imagenet1000_clsid_to_human.txt') as imagenet_classes_file:\n",
    "    imagenet_classes_dict = ast.literal_eval(imagenet_classes_file.read())\n",
    "\n",
    "def classifier(img_path, model_name):\n",
    "    # load the image\n",
    "    img_pil = Image.open(img_path)\n",
    "\n",
    "    # define transforms\n",
    "    preprocess = transforms.Compose([\n",
    "        transforms.Resize(256),\n",
    "        transforms.CenterCrop(224),\n",
    "        transforms.ToTensor(),\n",
    "        transforms.Normalize(mean=[0.485, 0.456, 0.406], std=[0.229, 0.224, 0.225])\n",
    "    ])\n",
    "    \n",
    "    # preprocess the image\n",
    "    img_tensor = preprocess(img_pil)\n",
    "    \n",
    "    # resize the tensor (add dimension for batch)\n",
    "    img_tensor.unsqueeze_(0)\n",
    "    \n",
    "    # wrap input in variable, wrap input in variable - no longer needed for\n",
    "    # v 0.4 & higher code changed 04/26/2018 by Jennifer S. to handle PyTorch upgrade\n",
    "    pytorch_ver = __version__.split('.')\n",
    "    \n",
    "    # pytorch versions 0.4 & hihger - Variable depreciated so that it returns\n",
    "    # a tensor. So to address tensor as output (not wrapper) and to mimic the \n",
    "    # affect of setting volatile = True (because we are using pretrained models\n",
    "    # for inference) we can set requires_gradient to False. Here we just set \n",
    "    # requires_grad_ to False on our tensor \n",
    "    if int(pytorch_ver[0]) > 0 or int(pytorch_ver[1]) >= 4:\n",
    "        img_tensor.requires_grad_(False)\n",
    "    \n",
    "    # pytorch versions less than 0.4 - uses Variable because not-depreciated\n",
    "    else:\n",
    "        # apply model to input\n",
    "        # wrap input in variable\n",
    "        data = Variable(img_tensor, volatile = True) \n",
    "\n",
    "    # apply model to input\n",
    "    model = models[model_name]\n",
    "\n",
    "    # puts model in evaluation mode\n",
    "    # instead of (default)training mode\n",
    "    model = model.eval()\n",
    "    \n",
    "    # apply data to model - adjusted based upon version to account for \n",
    "    # operating on a Tensor for version 0.4 & higher.\n",
    "    if int(pytorch_ver[0]) > 0 or int(pytorch_ver[1]) >= 4:\n",
    "        output = model(img_tensor)\n",
    "\n",
    "    # pytorch versions less than 0.4\n",
    "    else:\n",
    "        # apply data to model\n",
    "        output = model(data)\n",
    "\n",
    "    # return index corresponding to predicted class\n",
    "    pred_idx = output.data.numpy().argmax()\n",
    "\n",
    "    return imagenet_classes_dict[pred_idx]\n",
    "\n"
   ]
  },
  {
   "cell_type": "code",
   "execution_count": 34,
   "metadata": {},
   "outputs": [
    {
     "data": {
      "text/plain": [
       "'/Users/juka42/Desktop/Udacity/python_AI/project01/workspace'"
      ]
     },
     "execution_count": 34,
     "metadata": {},
     "output_type": "execute_result"
    }
   ],
   "source": [
    "pwd"
   ]
  },
  {
   "cell_type": "code",
   "execution_count": null,
   "metadata": {},
   "outputs": [],
   "source": []
  }
 ],
 "metadata": {
  "kernelspec": {
   "display_name": "Python 3",
   "language": "python",
   "name": "python3"
  },
  "language_info": {
   "codemirror_mode": {
    "name": "ipython",
    "version": 3
   },
   "file_extension": ".py",
   "mimetype": "text/x-python",
   "name": "python",
   "nbconvert_exporter": "python",
   "pygments_lexer": "ipython3",
   "version": "3.8.3"
  }
 },
 "nbformat": 4,
 "nbformat_minor": 4
}
